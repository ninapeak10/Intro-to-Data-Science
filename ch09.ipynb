{
 "cells": [
  {
   "cell_type": "code",
   "execution_count": 10,
   "metadata": {},
   "outputs": [],
   "source": [
    "import numpy as np\n",
    "import pandas as pd\n",
    "PREVIOUS_MAX_ROWS = pd.options.display.max_rows\n",
    "pd.options.display.max_rows = 20\n",
    "pd.options.display.max_colwidth = 80\n",
    "pd.options.display.max_columns = 20\n",
    "np.random.seed(12345)\n",
    "import matplotlib.pyplot as plt\n",
    "import matplotlib\n",
    "plt.rc(\"figure\", figsize=(20, 6))\n",
    "np.set_printoptions(precision=4, suppress=True)"
   ]
  },
  {
   "cell_type": "code",
   "execution_count": 11,
   "metadata": {},
   "outputs": [],
   "source": [
    "import matplotlib.pyplot as plt"
   ]
  },
  {
   "cell_type": "code",
   "execution_count": 25,
   "metadata": {},
   "outputs": [
    {
     "data": {
      "text/plain": [
       "[<matplotlib.lines.Line2D at 0x7f9916c4ebf0>]"
      ]
     },
     "execution_count": 25,
     "metadata": {},
     "output_type": "execute_result"
    },
    {
     "data": {
      "image/png": "[encoded data removed]",
      "text/plain": [
       "<Figure size 2000x600 with 1 Axes>"
      ]
     },
     "metadata": {},
     "output_type": "display_data"
    }
   ],
   "source": [
    "data = np.arange(10)\n",
    "data\n",
    "plt.plot(data, marker=\"+\")"
   ]
  },
  {
   "cell_type": "code",
   "execution_count": 4,
   "metadata": {},
   "outputs": [],
   "source": [
    "fig = plt.figure()"
   ]
  },
  {
   "cell_type": "code",
   "execution_count": 13,
   "metadata": {},
   "outputs": [
    {
     "name": "stdout",
     "output_type": "stream",
     "text": [
      "\u001b[0;31mSignature:\u001b[0m\n",
      "\u001b[0mplt\u001b[0m\u001b[0;34m.\u001b[0m\u001b[0mplot\u001b[0m\u001b[0;34m(\u001b[0m\u001b[0;34m\u001b[0m\n",
      "\u001b[0;34m\u001b[0m    \u001b[0;34m*\u001b[0m\u001b[0margs\u001b[0m\u001b[0;34m:\u001b[0m \u001b[0;34m'float | ArrayLike | str'\u001b[0m\u001b[0;34m,\u001b[0m\u001b[0;34m\u001b[0m\n",
      "\u001b[0;34m\u001b[0m    \u001b[0mscalex\u001b[0m\u001b[0;34m:\u001b[0m \u001b[0;34m'bool'\u001b[0m \u001b[0;34m=\u001b[0m \u001b[0;32mTrue\u001b[0m\u001b[0;34m,\u001b[0m\u001b[0;34m\u001b[0m\n",
      "\u001b[0;34m\u001b[0m    \u001b[0mscaley\u001b[0m\u001b[0;34m:\u001b[0m \u001b[0;34m'bool'\u001b[0m \u001b[0;34m=\u001b[0m \u001b[0;32mTrue\u001b[0m\u001b[0;34m,\u001b[0m\u001b[0;34m\u001b[0m\n",
      "\u001b[0;34m\u001b[0m    \u001b[0mdata\u001b[0m\u001b[0;34m=\u001b[0m\u001b[0;32mNone\u001b[0m\u001b[0;34m,\u001b[0m\u001b[0;34m\u001b[0m\n",
      "\u001b[0;34m\u001b[0m    \u001b[0;34m**\u001b[0m\u001b[0mkwargs\u001b[0m\u001b[0;34m,\u001b[0m\u001b[0;34m\u001b[0m\n",
      "\u001b[0;34m\u001b[0m\u001b[0;34m)\u001b[0m \u001b[0;34m->\u001b[0m \u001b[0;34m'list[Line2D]'\u001b[0m\u001b[0;34m\u001b[0m\u001b[0;34m\u001b[0m\u001b[0m\n",
      "\u001b[0;31mDocstring:\u001b[0m\n",
      "Plot y versus x as lines and/or markers.\n",
      "\n",
      "Call signatures::\n",
      "\n",
      "    plot([x], y, [fmt], *, data=None, **kwargs)\n",
      "    plot([x], y, [fmt], [x2], y2, [fmt2], ..., **kwargs)\n",
      "\n",
      "The coordinates of the points or line nodes are given by *x*, *y*.\n",
      "\n",
      "The optional parameter *fmt* is a convenient way for defining basic\n",
      "formatting like color, marker and linestyle. It's a shortcut string\n",
      "notation described in the *Notes* section below.\n",
      "\n",
      ">>> plot(x, y)        # plot x and y using default line style and color\n",
      ">>> plot(x, y, 'bo')  # plot x and y using blue circle markers\n",
      ">>> plot(y)           # plot y using x as index array 0..N-1\n",
      ">>> plot(y, 'r+')     # ditto, but with red plusses\n",
      "\n",
      "You can use `.Line2D` properties as keyword arguments for more\n",
      "control on the appearance. Line properties and *fmt* can be mixed.\n",
      "The following two calls yield identical results:\n",
      "\n",
      ">>> plot(x, y, 'go--', linewidth=2, markersize=12)\n",
      ">>> plot(x, y, color='green', marker='o', linestyle='dashed',\n",
      "...      linewidth=2, markersize=12)\n",
      "\n",
      "When conflicting with *fmt*, keyword arguments take precedence.\n",
      "\n",
      "\n",
      "**Plotting labelled data**\n",
      "\n",
      "There's a convenient way for plotting objects with labelled data (i.e.\n",
      "data that can be accessed by index ``obj['y']``). Instead of giving\n",
      "the data in *x* and *y*, you can provide the object in the *data*\n",
      "parameter and just give the labels for *x* and *y*::\n",
      "\n",
      ">>> plot('xlabel', 'ylabel', data=obj)\n",
      "\n",
      "All indexable objects are supported. This could e.g. be a `dict`, a\n",
      "`pandas.DataFrame` or a structured numpy array.\n",
      "\n",
      "\n",
      "**Plotting multiple sets of data**\n",
      "\n",
      "There are various ways to plot multiple sets of data.\n",
      "\n",
      "- The most straight forward way is just to call `plot` multiple times.\n",
      "  Example:\n",
      "\n",
      "  >>> plot(x1, y1, 'bo')\n",
      "  >>> plot(x2, y2, 'go')\n",
      "\n",
      "- If *x* and/or *y* are 2D arrays a separate data set will be drawn\n",
      "  for every column. If both *x* and *y* are 2D, they must have the\n",
      "  same shape. If only one of them is 2D with shape (N, m) the other\n",
      "  must have length N and will be used for every data set m.\n",
      "\n",
      "  Example:\n",
      "\n",
      "  >>> x = [1, 2, 3]\n",
      "  >>> y = np.array([[1, 2], [3, 4], [5, 6]])\n",
      "  >>> plot(x, y)\n",
      "\n",
      "  is equivalent to:\n",
      "\n",
      "  >>> for col in range(y.shape[1]):\n",
      "  ...     plot(x, y[:, col])\n",
      "\n",
      "- The third way is to specify multiple sets of *[x]*, *y*, *[fmt]*\n",
      "  groups::\n",
      "\n",
      "  >>> plot(x1, y1, 'g^', x2, y2, 'g-')\n",
      "\n",
      "  In this case, any additional keyword argument applies to all\n",
      "  datasets. Also, this syntax cannot be combined with the *data*\n",
      "  parameter.\n",
      "\n",
      "By default, each line is assigned a different style specified by a\n",
      "'style cycle'. The *fmt* and line property parameters are only\n",
      "necessary if you want explicit deviations from these defaults.\n",
      "Alternatively, you can also change the style cycle using\n",
      ":rc:`axes.prop_cycle`.\n",
      "\n",
      "\n",
      "Parameters\n",
      "----------\n",
      "x, y : array-like or scalar\n",
      "    The horizontal / vertical coordinates of the data points.\n",
      "    *x* values are optional and default to ``range(len(y))``.\n",
      "\n",
      "    Commonly, these parameters are 1D arrays.\n",
      "\n",
      "    They can also be scalars, or two-dimensional (in that case, the\n",
      "    columns represent separate data sets).\n",
      "\n",
      "    These arguments cannot be passed as keywords.\n",
      "\n",
      "fmt : str, optional\n",
      "    A format string, e.g. 'ro' for red circles. See the *Notes*\n",
      "    section for a full description of the format strings.\n",
      "\n",
      "    Format strings are just an abbreviation for quickly setting\n",
      "    basic line properties. All of these and more can also be\n",
      "    controlled by keyword arguments.\n",
      "\n",
      "    This argument cannot be passed as keyword.\n",
      "\n",
      "data : indexable object, optional\n",
      "    An object with labelled data. If given, provide the label names to\n",
      "    plot in *x* and *y*.\n",
      "\n",
      "    .. note::\n",
      "        Technically there's a slight ambiguity in calls where the\n",
      "        second label is a valid *fmt*. ``plot('n', 'o', data=obj)``\n",
      "        could be ``plt(x, y)`` or ``plt(y, fmt)``. In such cases,\n",
      "        the former interpretation is chosen, but a warning is issued.\n",
      "        You may suppress the warning by adding an empty format string\n",
      "        ``plot('n', 'o', '', data=obj)``.\n",
      "\n",
      "Returns\n",
      "-------\n",
      "list of `.Line2D`\n",
      "    A list of lines representing the plotted data.\n",
      "\n",
      "Other Parameters\n",
      "----------------\n",
      "scalex, scaley : bool, default: True\n",
      "    These parameters determine if the view limits are adapted to the\n",
      "    data limits. The values are passed on to\n",
      "    `~.axes.Axes.autoscale_view`.\n",
      "\n",
      "**kwargs : `~matplotlib.lines.Line2D` properties, optional\n",
      "    *kwargs* are used to specify properties like a line label (for\n",
      "    auto legends), linewidth, antialiasing, marker face color.\n",
      "    Example::\n",
      "\n",
      "    >>> plot([1, 2, 3], [1, 2, 3], 'go-', label='line 1', linewidth=2)\n",
      "    >>> plot([1, 2, 3], [1, 4, 9], 'rs', label='line 2')\n",
      "\n",
      "    If you specify multiple lines with one plot call, the kwargs apply\n",
      "    to all those lines. In case the label object is iterable, each\n",
      "    element is used as labels for each set of data.\n",
      "\n",
      "    Here is a list of available `.Line2D` properties:\n",
      "\n",
      "    Properties:\n",
      "    agg_filter: a filter function, which takes a (m, n, 3) float array and a dpi value, and returns a (m, n, 3) array and two offsets from the bottom left corner of the image\n",
      "    alpha: scalar or None\n",
      "    animated: bool\n",
      "    antialiased or aa: bool\n",
      "    clip_box: `~matplotlib.transforms.BboxBase` or None\n",
      "    clip_on: bool\n",
      "    clip_path: Patch or (Path, Transform) or None\n",
      "    color or c: color\n",
      "    dash_capstyle: `.CapStyle` or {'butt', 'projecting', 'round'}\n",
      "    dash_joinstyle: `.JoinStyle` or {'miter', 'round', 'bevel'}\n",
      "    dashes: sequence of floats (on/off ink in points) or (None, None)\n",
      "    data: (2, N) array or two 1D arrays\n",
      "    drawstyle or ds: {'default', 'steps', 'steps-pre', 'steps-mid', 'steps-post'}, default: 'default'\n",
      "    figure: `~matplotlib.figure.Figure`\n",
      "    fillstyle: {'full', 'left', 'right', 'bottom', 'top', 'none'}\n",
      "    gapcolor: color or None\n",
      "    gid: str\n",
      "    in_layout: bool\n",
      "    label: object\n",
      "    linestyle or ls: {'-', '--', '-.', ':', '', (offset, on-off-seq), ...}\n",
      "    linewidth or lw: float\n",
      "    marker: marker style string, `~.path.Path` or `~.markers.MarkerStyle`\n",
      "    markeredgecolor or mec: color\n",
      "    markeredgewidth or mew: float\n",
      "    markerfacecolor or mfc: color\n",
      "    markerfacecoloralt or mfcalt: color\n",
      "    markersize or ms: float\n",
      "    markevery: None or int or (int, int) or slice or list[int] or float or (float, float) or list[bool]\n",
      "    mouseover: bool\n",
      "    path_effects: list of `.AbstractPathEffect`\n",
      "    picker: float or callable[[Artist, Event], tuple[bool, dict]]\n",
      "    pickradius: float\n",
      "    rasterized: bool\n",
      "    sketch_params: (scale: float, length: float, randomness: float)\n",
      "    snap: bool or None\n",
      "    solid_capstyle: `.CapStyle` or {'butt', 'projecting', 'round'}\n",
      "    solid_joinstyle: `.JoinStyle` or {'miter', 'round', 'bevel'}\n",
      "    transform: unknown\n",
      "    url: str\n",
      "    visible: bool\n",
      "    xdata: 1D array\n",
      "    ydata: 1D array\n",
      "    zorder: float\n",
      "\n",
      "See Also\n",
      "--------\n",
      "scatter : XY scatter plot with markers of varying size and/or color (\n",
      "    sometimes also called bubble chart).\n",
      "\n",
      "Notes\n",
      "-----\n",
      "**Format Strings**\n",
      "\n",
      "A format string consists of a part for color, marker and line::\n",
      "\n",
      "    fmt = '[marker][line][color]'\n",
      "\n",
      "Each of them is optional. If not provided, the value from the style\n",
      "cycle is used. Exception: If ``line`` is given, but no ``marker``,\n",
      "the data will be a line without markers.\n",
      "\n",
      "Other combinations such as ``[color][marker][line]`` are also\n",
      "supported, but note that their parsing may be ambiguous.\n",
      "\n",
      "**Markers**\n",
      "\n",
      "=============   ===============================\n",
      "character       description\n",
      "=============   ===============================\n",
      "``'.'``         point marker\n",
      "``','``         pixel marker\n",
      "``'o'``         circle marker\n",
      "``'v'``         triangle_down marker\n",
      "``'^'``         triangle_up marker\n",
      "``'<'``         triangle_left marker\n",
      "``'>'``         triangle_right marker\n",
      "``'1'``         tri_down marker\n",
      "``'2'``         tri_up marker\n",
      "``'3'``         tri_left marker\n",
      "``'4'``         tri_right marker\n",
      "``'8'``         octagon marker\n",
      "``'s'``         square marker\n",
      "``'p'``         pentagon marker\n",
      "``'P'``         plus (filled) marker\n",
      "``'*'``         star marker\n",
      "``'h'``         hexagon1 marker\n",
      "``'H'``         hexagon2 marker\n",
      "``'+'``         plus marker\n",
      "``'x'``         x marker\n",
      "``'X'``         x (filled) marker\n",
      "``'D'``         diamond marker\n",
      "``'d'``         thin_diamond marker\n",
      "``'|'``         vline marker\n",
      "``'_'``         hline marker\n",
      "=============   ===============================\n",
      "\n",
      "**Line Styles**\n",
      "\n",
      "=============    ===============================\n",
      "character        description\n",
      "=============    ===============================\n",
      "``'-'``          solid line style\n",
      "``'--'``         dashed line style\n",
      "``'-.'``         dash-dot line style\n",
      "``':'``          dotted line style\n",
      "=============    ===============================\n",
      "\n",
      "Example format strings::\n",
      "\n",
      "    'b'    # blue markers with default shape\n",
      "    'or'   # red circles\n",
      "    '-g'   # green solid line\n",
      "    '--'   # dashed line with default color\n",
      "    '^k:'  # black triangle_up markers connected by a dotted line\n",
      "\n",
      "**Colors**\n",
      "\n",
      "The supported color abbreviations are the single letter codes\n",
      "\n",
      "=============    ===============================\n",
      "character        color\n",
      "=============    ===============================\n",
      "``'b'``          blue\n",
      "``'g'``          green\n",
      "``'r'``          red\n",
      "``'c'``          cyan\n",
      "``'m'``          magenta\n",
      "``'y'``          yellow\n",
      "``'k'``          black\n",
      "``'w'``          white\n",
      "=============    ===============================\n",
      "\n",
      "and the ``'CN'`` colors that index into the default property cycle.\n",
      "\n",
      "If the color is the only part of the format string, you can\n",
      "additionally use any  `matplotlib.colors` spec, e.g. full names\n",
      "(``'green'``) or hex strings (``'#008000'``).\n",
      "\u001b[0;31mFile:\u001b[0m      ~/.local/lib/python3.10/site-packages/matplotlib/pyplot.py\n",
      "\u001b[0;31mType:\u001b[0m      function"
     ]
    }
   ],
   "source": [
    "plt.plot?"
   ]
  },
  {
   "cell_type": "code",
   "execution_count": 5,
   "metadata": {},
   "outputs": [],
   "source": [
    "ax1 = fig.add_subplot(2, 2, 1)"
   ]
  },
  {
   "cell_type": "code",
   "execution_count": 6,
   "metadata": {},
   "outputs": [],
   "source": [
    "ax2 = fig.add_subplot(2, 2, 2)\n",
    "ax3 = fig.add_subplot(2, 2, 3)"
   ]
  },
  {
   "cell_type": "code",
   "execution_count": 7,
   "metadata": {},
   "outputs": [],
   "source": [
    "ax3.plot(np.random.standard_normal(50).cumsum(), color=\"black\",\n",
    "         linestyle=\"dashed\")"
   ]
  },
  {
   "cell_type": "code",
   "execution_count": 8,
   "metadata": {},
   "outputs": [],
   "source": [
    "ax1.hist(np.random.standard_normal(100), bins=20, color=\"black\", alpha=0.3);\n",
    "ax2.scatter(np.arange(30), np.arange(30) + 3 * np.random.standard_normal(30));"
   ]
  },
  {
   "cell_type": "code",
   "execution_count": 9,
   "metadata": {},
   "outputs": [],
   "source": [
    "plt.close(\"all\")"
   ]
  },
  {
   "cell_type": "code",
   "execution_count": 10,
   "metadata": {},
   "outputs": [],
   "source": [
    "fig, axes = plt.subplots(2, 3)\n",
    "axes"
   ]
  },
  {
   "cell_type": "code",
   "execution_count": 15,
   "metadata": {},
   "outputs": [
    {
     "data": {
      "image/png": "[encoded data removed]",
      "text/plain": [
       "<Figure size 2000x600 with 4 Axes>"
      ]
     },
     "metadata": {},
     "output_type": "display_data"
    }
   ],
   "source": [
    "fig, axes = plt.subplots(2, 2, sharex=True, sharey=True)\n",
    "for i in range(2):\n",
    "    for j in range(2):\n",
    "        axes[i, j].hist(np.random.standard_normal(500), bins=50,\n",
    "                        color=\"black\", alpha=0.5)\n",
    "fig.subplots_adjust(wspace=0, hspace=0)"
   ]
  },
  {
   "cell_type": "code",
   "execution_count": 20,
   "metadata": {},
   "outputs": [
    {
     "data": {
      "text/plain": [
       "<Figure size 2000x600 with 0 Axes>"
      ]
     },
     "metadata": {},
     "output_type": "display_data"
    }
   ],
   "source": [
    "fig = plt.figure()"
   ]
  },
  {
   "cell_type": "code",
   "execution_count": 22,
   "metadata": {},
   "outputs": [
    {
     "data": {
      "text/plain": [
       "[]"
      ]
     },
     "execution_count": 22,
     "metadata": {},
     "output_type": "execute_result"
    },
    {
     "data": {
      "image/png": "[encoded data removed]",
      "text/plain": [
       "<Figure size 2000x600 with 1 Axes>"
      ]
     },
     "metadata": {},
     "output_type": "display_data"
    }
   ],
   "source": [
    "ax = fig.add_subplot()\n",
    "ax.plot(np.random.standard_normal(30).cumsum(), color=\"black\",\n",
    "        linestyle=\"dashed\", marker=\"o\")\n"
   ]
  },
  {
   "cell_type": "code",
   "execution_count": 14,
   "metadata": {},
   "outputs": [],
   "source": [
    "plt.close(\"all\")"
   ]
  },
  {
   "cell_type": "code",
   "execution_count": 15,
   "metadata": {},
   "outputs": [],
   "source": [
    "fig = plt.figure()\n",
    "ax = fig.add_subplot()\n",
    "data = np.random.standard_normal(30).cumsum()\n",
    "ax.plot(data, color=\"black\", linestyle=\"dashed\", label=\"Default\");\n",
    "ax.plot(data, color=\"black\", linestyle=\"dashed\",\n",
    "        drawstyle=\"steps-post\", label=\"steps-post\");\n",
    "ax.legend()"
   ]
  },
  {
   "cell_type": "code",
   "execution_count": 16,
   "metadata": {},
   "outputs": [],
   "source": [
    "fig, ax = plt.subplots()\n",
    "ax.plot(np.random.standard_normal(1000).cumsum());"
   ]
  },
  {
   "cell_type": "code",
   "execution_count": 17,
   "metadata": {},
   "outputs": [],
   "source": [
    "ticks = ax.set_xticks([0, 250, 500, 750, 1000])\n",
    "labels = ax.set_xticklabels([\"one\", \"two\", \"three\", \"four\", \"five\"],\n",
    "                            rotation=30, fontsize=8)"
   ]
  },
  {
   "cell_type": "code",
   "execution_count": 18,
   "metadata": {},
   "outputs": [],
   "source": [
    "ax.set_xlabel(\"Stages\")\n",
    "ax.set_title(\"My first matplotlib plot\")"
   ]
  },
  {
   "cell_type": "code",
   "execution_count": 19,
   "metadata": {},
   "outputs": [],
   "source": [
    "fig, ax = plt.subplots()\n",
    "ax.plot(np.random.randn(1000).cumsum(), color=\"black\", label=\"one\");\n",
    "ax.plot(np.random.randn(1000).cumsum(), color=\"black\", linestyle=\"dashed\",\n",
    "        label=\"two\");\n",
    "ax.plot(np.random.randn(1000).cumsum(), color=\"black\", linestyle=\"dotted\",\n",
    "        label=\"three\");"
   ]
  },
  {
   "cell_type": "code",
   "execution_count": 20,
   "metadata": {},
   "outputs": [],
   "source": [
    "ax.legend()"
   ]
  },
  {
   "cell_type": "code",
   "execution_count": 21,
   "metadata": {},
   "outputs": [],
   "source": [
    "from datetime import datetime\n",
    "\n",
    "fig, ax = plt.subplots()\n",
    "\n",
    "data = pd.read_csv(\"examples/spx.csv\", index_col=0, parse_dates=True)\n",
    "spx = data[\"SPX\"]\n",
    "\n",
    "spx.plot(ax=ax, color=\"black\")\n",
    "\n",
    "crisis_data = [\n",
    "    (datetime(2007, 10, 11), \"Peak of bull market\"),\n",
    "    (datetime(2008, 3, 12), \"Bear Stearns Fails\"),\n",
    "    (datetime(2008, 9, 15), \"Lehman Bankruptcy\")\n",
    "]\n",
    "\n",
    "for date, label in crisis_data:\n",
    "    ax.annotate(label, xy=(date, spx.asof(date) + 75),\n",
    "                xytext=(date, spx.asof(date) + 225),\n",
    "                arrowprops=dict(facecolor=\"black\", headwidth=4, width=2,\n",
    "                                headlength=4),\n",
    "                horizontalalignment=\"left\", verticalalignment=\"top\")\n",
    "\n",
    "# Zoom in on 2007-2010\n",
    "ax.set_xlim([\"1/1/2007\", \"1/1/2011\"])\n",
    "ax.set_ylim([600, 1800])\n",
    "\n",
    "ax.set_title(\"Important dates in the 2008–2009 financial crisis\")"
   ]
  },
  {
   "cell_type": "code",
   "execution_count": 22,
   "metadata": {},
   "outputs": [],
   "source": [
    "ax.set_title(\"Important dates in the 2008–2009 financial crisis\")"
   ]
  },
  {
   "cell_type": "code",
   "execution_count": 23,
   "metadata": {},
   "outputs": [],
   "source": [
    "fig, ax = plt.subplots(figsize=(12, 6))\n",
    "rect = plt.Rectangle((0.2, 0.75), 0.4, 0.15, color=\"black\", alpha=0.3)\n",
    "circ = plt.Circle((0.7, 0.2), 0.15, color=\"blue\", alpha=0.3)\n",
    "pgon = plt.Polygon([[0.15, 0.15], [0.35, 0.4], [0.2, 0.6]],\n",
    "                   color=\"green\", alpha=0.5)\n",
    "ax.add_patch(rect)\n",
    "ax.add_patch(circ)\n",
    "ax.add_patch(pgon)"
   ]
  },
  {
   "cell_type": "code",
   "execution_count": 24,
   "metadata": {},
   "outputs": [],
   "source": [
    "plt.close(\"all\")"
   ]
  },
  {
   "cell_type": "code",
   "execution_count": 25,
   "metadata": {},
   "outputs": [],
   "source": [
    "s = pd.Series(np.random.standard_normal(10).cumsum(), index=np.arange(0, 100, 10))\n",
    "s.plot()"
   ]
  },
  {
   "cell_type": "code",
   "execution_count": 26,
   "metadata": {},
   "outputs": [],
   "source": [
    "df = pd.DataFrame(np.random.standard_normal((10, 4)).cumsum(0),\n",
    "                  columns=[\"A\", \"B\", \"C\", \"D\"],\n",
    "                  index=np.arange(0, 100, 10))\n",
    "plt.style.use('grayscale')\n",
    "df.plot()"
   ]
  },
  {
   "cell_type": "code",
   "execution_count": 27,
   "metadata": {},
   "outputs": [],
   "source": [
    "fig, axes = plt.subplots(2, 1)\n",
    "data = pd.Series(np.random.uniform(size=16), index=list(\"abcdefghijklmnop\"))\n",
    "data.plot.bar(ax=axes[0], color=\"black\", alpha=0.7)\n",
    "data.plot.barh(ax=axes[1], color=\"black\", alpha=0.7)"
   ]
  },
  {
   "cell_type": "code",
   "execution_count": 28,
   "metadata": {},
   "outputs": [],
   "source": [
    "np.random.seed(12348)"
   ]
  },
  {
   "cell_type": "code",
   "execution_count": 29,
   "metadata": {},
   "outputs": [],
   "source": [
    "df = pd.DataFrame(np.random.uniform(size=(6, 4)),\n",
    "                  index=[\"one\", \"two\", \"three\", \"four\", \"five\", \"six\"],\n",
    "                  columns=pd.Index([\"A\", \"B\", \"C\", \"D\"], name=\"Genus\"))\n",
    "df\n",
    "df.plot.bar()"
   ]
  },
  {
   "cell_type": "code",
   "execution_count": 30,
   "metadata": {},
   "outputs": [],
   "source": [
    "plt.figure()"
   ]
  },
  {
   "cell_type": "code",
   "execution_count": 31,
   "metadata": {},
   "outputs": [],
   "source": [
    "df.plot.barh(stacked=True, alpha=0.5)"
   ]
  },
  {
   "cell_type": "code",
   "execution_count": 32,
   "metadata": {},
   "outputs": [],
   "source": [
    "plt.close(\"all\")"
   ]
  },
  {
   "cell_type": "code",
   "execution_count": 33,
   "metadata": {},
   "outputs": [],
   "source": [
    "tips = pd.read_csv(\"examples/tips.csv\")\n",
    "tips.head()\n",
    "party_counts = pd.crosstab(tips[\"day\"], tips[\"size\"])\n",
    "party_counts = party_counts.reindex(index=[\"Thur\", \"Fri\", \"Sat\", \"Sun\"])\n",
    "party_counts"
   ]
  },
  {
   "cell_type": "code",
   "execution_count": 34,
   "metadata": {},
   "outputs": [],
   "source": [
    "party_counts = party_counts.loc[:, 2:5]"
   ]
  },
  {
   "cell_type": "code",
   "execution_count": 35,
   "metadata": {},
   "outputs": [],
   "source": [
    "# Normalize to sum to 1\n",
    "party_pcts = party_counts.div(party_counts.sum(axis=\"columns\"),\n",
    "                              axis=\"index\")\n",
    "party_pcts\n",
    "party_pcts.plot.bar(stacked=True)"
   ]
  },
  {
   "cell_type": "code",
   "execution_count": 36,
   "metadata": {},
   "outputs": [],
   "source": [
    "plt.close(\"all\")"
   ]
  },
  {
   "cell_type": "code",
   "execution_count": 37,
   "metadata": {},
   "outputs": [],
   "source": [
    "import seaborn as sns\n",
    "\n",
    "tips[\"tip_pct\"] = tips[\"tip\"] / (tips[\"total_bill\"] - tips[\"tip\"])\n",
    "tips.head()\n",
    "sns.barplot(x=\"tip_pct\", y=\"day\", data=tips, orient=\"h\")"
   ]
  },
  {
   "cell_type": "code",
   "execution_count": 38,
   "metadata": {},
   "outputs": [],
   "source": [
    "plt.close(\"all\")"
   ]
  },
  {
   "cell_type": "code",
   "execution_count": 39,
   "metadata": {},
   "outputs": [],
   "source": [
    "sns.barplot(x=\"tip_pct\", y=\"day\", hue=\"time\", data=tips, orient=\"h\")"
   ]
  },
  {
   "cell_type": "code",
   "execution_count": 40,
   "metadata": {},
   "outputs": [],
   "source": [
    "plt.close(\"all\")"
   ]
  },
  {
   "cell_type": "code",
   "execution_count": 41,
   "metadata": {},
   "outputs": [],
   "source": [
    "sns.set_style(\"whitegrid\")"
   ]
  },
  {
   "cell_type": "code",
   "execution_count": 42,
   "metadata": {},
   "outputs": [],
   "source": [
    "plt.figure()"
   ]
  },
  {
   "cell_type": "code",
   "execution_count": 43,
   "metadata": {},
   "outputs": [],
   "source": [
    "tips[\"tip_pct\"].plot.hist(bins=50)"
   ]
  },
  {
   "cell_type": "code",
   "execution_count": 44,
   "metadata": {},
   "outputs": [],
   "source": [
    "plt.figure()"
   ]
  },
  {
   "cell_type": "code",
   "execution_count": 45,
   "metadata": {},
   "outputs": [],
   "source": [
    "tips[\"tip_pct\"].plot.density()"
   ]
  },
  {
   "cell_type": "code",
   "execution_count": 46,
   "metadata": {},
   "outputs": [],
   "source": [
    "plt.figure()"
   ]
  },
  {
   "cell_type": "code",
   "execution_count": 47,
   "metadata": {},
   "outputs": [],
   "source": [
    "comp1 = np.random.standard_normal(200)\n",
    "comp2 = 10 + 2 * np.random.standard_normal(200)\n",
    "values = pd.Series(np.concatenate([comp1, comp2]))\n",
    "\n",
    "sns.histplot(values, bins=100, color=\"black\")"
   ]
  },
  {
   "cell_type": "code",
   "execution_count": 48,
   "metadata": {},
   "outputs": [],
   "source": [
    "macro = pd.read_csv(\"examples/macrodata.csv\")\n",
    "data = macro[[\"cpi\", \"m1\", \"tbilrate\", \"unemp\"]]\n",
    "trans_data = np.log(data).diff().dropna()\n",
    "trans_data.tail()"
   ]
  },
  {
   "cell_type": "code",
   "execution_count": 49,
   "metadata": {},
   "outputs": [],
   "source": [
    "plt.figure()"
   ]
  },
  {
   "cell_type": "code",
   "execution_count": 50,
   "metadata": {},
   "outputs": [],
   "source": [
    "ax = sns.regplot(x=\"m1\", y=\"unemp\", data=trans_data)\n",
    "ax.set_title(\"Changes in log(m1) versus log(unemp)\")"
   ]
  },
  {
   "cell_type": "code",
   "execution_count": 51,
   "metadata": {},
   "outputs": [],
   "source": [
    "sns.pairplot(trans_data, diag_kind=\"kde\", plot_kws={\"alpha\": 0.2})"
   ]
  },
  {
   "cell_type": "code",
   "execution_count": 52,
   "metadata": {},
   "outputs": [],
   "source": [
    "sns.catplot(x=\"day\", y=\"tip_pct\", hue=\"time\", col=\"smoker\",\n",
    "            kind=\"bar\", data=tips[tips.tip_pct < 1])"
   ]
  },
  {
   "cell_type": "code",
   "execution_count": 53,
   "metadata": {},
   "outputs": [],
   "source": [
    "sns.catplot(x=\"day\", y=\"tip_pct\", row=\"time\",\n",
    "            col=\"smoker\",\n",
    "            kind=\"bar\", data=tips[tips.tip_pct < 1])"
   ]
  },
  {
   "cell_type": "code",
   "execution_count": 54,
   "metadata": {},
   "outputs": [],
   "source": [
    "sns.catplot(x=\"tip_pct\", y=\"day\", kind=\"box\",\n",
    "            data=tips[tips.tip_pct < 0.5])"
   ]
  },
  {
   "cell_type": "code",
   "execution_count": 55,
   "metadata": {},
   "outputs": [],
   "source": []
  },
  {
   "cell_type": "code",
   "execution_count": 56,
   "metadata": {},
   "outputs": [],
   "source": [
    "pd.options.display.max_rows = PREVIOUS_MAX_ROWS"
   ]
  }
 ],
 "metadata": {
  "kernelspec": {
   "display_name": "Python 3",
   "language": "python",
   "name": "python3"
  },
  "language_info": {
   "codemirror_mode": {
    "name": "ipython",
    "version": 3
   },
   "file_extension": ".py",
   "mimetype": "text/x-python",
   "name": "python",
   "nbconvert_exporter": "python",
   "pygments_lexer": "ipython3",
   "version": "3.10.13"
  }
 },
 "nbformat": 4,
 "nbformat_minor": 4
}
