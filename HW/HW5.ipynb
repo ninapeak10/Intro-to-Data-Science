{
 "cells": [
  {
   "cell_type": "markdown",
   "metadata": {},
   "source": [
    "# Intro to Data Science - Homework 5 - Fall 2024 - Wilmington College\n",
    "## Due Date: April 26, 2024, 11:30 AM (Before the Start of Our Class)\n",
    "\n",
    "Dear Students,\n",
    "\n",
    "Welcome to Homework 5 for the Intro to Data Science course.\n",
    "\n",
    "**Submission Instructions:**\n",
    "Please complete the homework and commit your changes to GitHub. \n",
    "\n",
    "Last part of each problem dedicated to this question: \"How long did it take you to solve this question? Was it easy, medium, or hard for you? Feel free to share any comments you have.\"\n",
    "\n",
    "**Alternative Submission:**\n",
    "If, for any reason, you are unable to use GitHub, you can submit your work via email.\n",
    "\n",
    "Remember, timely completion of assignments is crucial for your understanding of the course material. If you face any challenges, don't hesitate to reach out."
   ]
  },
  {
   "cell_type": "markdown",
   "metadata": {},
   "source": [
    "## Exercise 1: Group Transformations\n",
    "Consider a dataset containing information about students' exam scores across multiple subjects. The dataset is structured as follows:\n",
    "\n",
    "\n",
    "    a. Write a function `normalize_scores` that takes a group as input and normalizes the scores within each subject to have a mean of 0 and a standard deviation of 1. Then, apply the `normalize_scores` function to the 'Score' column grouped by the 'Subject' column.\n",
    "    b. Compute the ranks of students within each subject in ascending order using a custom function."
   ]
  },
  {
   "cell_type": "code",
   "execution_count": 4,
   "metadata": {},
   "outputs": [
    {
     "data": {
      "text/html": [
       "<div>\n",
       "<style scoped>\n",
       "    .dataframe tbody tr th:only-of-type {\n",
       "        vertical-align: middle;\n",
       "    }\n",
       "\n",
       "    .dataframe tbody tr th {\n",
       "        vertical-align: top;\n",
       "    }\n",
       "\n",
       "    .dataframe thead th {\n",
       "        text-align: right;\n",
       "    }\n",
       "</style>\n",
       "<table border=\"1\" class=\"dataframe\">\n",
       "  <thead>\n",
       "    <tr style=\"text-align: right;\">\n",
       "      <th></th>\n",
       "      <th>Student_ID</th>\n",
       "      <th>Subject</th>\n",
       "      <th>Score</th>\n",
       "    </tr>\n",
       "  </thead>\n",
       "  <tbody>\n",
       "    <tr>\n",
       "      <th>0</th>\n",
       "      <td>1</td>\n",
       "      <td>Math</td>\n",
       "      <td>85</td>\n",
       "    </tr>\n",
       "    <tr>\n",
       "      <th>1</th>\n",
       "      <td>2</td>\n",
       "      <td>Math</td>\n",
       "      <td>90</td>\n",
       "    </tr>\n",
       "    <tr>\n",
       "      <th>2</th>\n",
       "      <td>3</td>\n",
       "      <td>Science</td>\n",
       "      <td>78</td>\n",
       "    </tr>\n",
       "    <tr>\n",
       "      <th>3</th>\n",
       "      <td>4</td>\n",
       "      <td>Science</td>\n",
       "      <td>82</td>\n",
       "    </tr>\n",
       "    <tr>\n",
       "      <th>4</th>\n",
       "      <td>5</td>\n",
       "      <td>English</td>\n",
       "      <td>88</td>\n",
       "    </tr>\n",
       "    <tr>\n",
       "      <th>5</th>\n",
       "      <td>6</td>\n",
       "      <td>English</td>\n",
       "      <td>92</td>\n",
       "    </tr>\n",
       "    <tr>\n",
       "      <th>6</th>\n",
       "      <td>7</td>\n",
       "      <td>Math</td>\n",
       "      <td>75</td>\n",
       "    </tr>\n",
       "    <tr>\n",
       "      <th>7</th>\n",
       "      <td>8</td>\n",
       "      <td>Science</td>\n",
       "      <td>80</td>\n",
       "    </tr>\n",
       "    <tr>\n",
       "      <th>8</th>\n",
       "      <td>9</td>\n",
       "      <td>English</td>\n",
       "      <td>85</td>\n",
       "    </tr>\n",
       "    <tr>\n",
       "      <th>9</th>\n",
       "      <td>10</td>\n",
       "      <td>Math</td>\n",
       "      <td>88</td>\n",
       "    </tr>\n",
       "  </tbody>\n",
       "</table>\n",
       "</div>"
      ],
      "text/plain": [
       "   Student_ID  Subject  Score\n",
       "0           1     Math     85\n",
       "1           2     Math     90\n",
       "2           3  Science     78\n",
       "3           4  Science     82\n",
       "4           5  English     88\n",
       "5           6  English     92\n",
       "6           7     Math     75\n",
       "7           8  Science     80\n",
       "8           9  English     85\n",
       "9          10     Math     88"
      ]
     },
     "execution_count": 4,
     "metadata": {},
     "output_type": "execute_result"
    }
   ],
   "source": [
    "import pandas as pd\n",
    "import numpy as np\n",
    "\n",
    "data = {\n",
    "    'Student_ID': [1, 2, 3, 4, 5, 6, 7, 8, 9, 10],\n",
    "    'Subject': ['Math', 'Math', 'Science', 'Science', 'English', 'English', 'Math', 'Science', 'English', 'Math'],\n",
    "    'Score': [85, 90, 78, 82, 88, 92, 75, 80, 85, 88]\n",
    "}\n",
    "\n",
    "df = pd.DataFrame(data)\n",
    "df"
   ]
  },
  {
   "cell_type": "code",
   "execution_count": 5,
   "metadata": {},
   "outputs": [
    {
     "name": "stderr",
     "output_type": "stream",
     "text": [
      "/tmp/ipykernel_1112/1422287878.py:8: DeprecationWarning: DataFrameGroupBy.apply operated on the grouping columns. This behavior is deprecated, and in a future version of pandas the grouping columns will be excluded from the operation. Either pass `include_groups=False` to exclude the groupings or explicitly select the grouping columns after groupby to silence this warning.\n",
      "  normalized_data = df.groupby('Subject').apply(normalize_scores)\n"
     ]
    },
    {
     "data": {
      "text/html": [
       "<div>\n",
       "<style scoped>\n",
       "    .dataframe tbody tr th:only-of-type {\n",
       "        vertical-align: middle;\n",
       "    }\n",
       "\n",
       "    .dataframe tbody tr th {\n",
       "        vertical-align: top;\n",
       "    }\n",
       "\n",
       "    .dataframe thead th {\n",
       "        text-align: right;\n",
       "    }\n",
       "</style>\n",
       "<table border=\"1\" class=\"dataframe\">\n",
       "  <thead>\n",
       "    <tr style=\"text-align: right;\">\n",
       "      <th></th>\n",
       "      <th></th>\n",
       "      <th>Student_ID</th>\n",
       "      <th>Subject</th>\n",
       "      <th>Score</th>\n",
       "      <th>Normalized_Score</th>\n",
       "    </tr>\n",
       "    <tr>\n",
       "      <th>Subject</th>\n",
       "      <th></th>\n",
       "      <th></th>\n",
       "      <th></th>\n",
       "      <th></th>\n",
       "      <th></th>\n",
       "    </tr>\n",
       "  </thead>\n",
       "  <tbody>\n",
       "    <tr>\n",
       "      <th rowspan=\"3\" valign=\"top\">English</th>\n",
       "      <th>4</th>\n",
       "      <td>5</td>\n",
       "      <td>English</td>\n",
       "      <td>88</td>\n",
       "      <td>-0.094916</td>\n",
       "    </tr>\n",
       "    <tr>\n",
       "      <th>5</th>\n",
       "      <td>6</td>\n",
       "      <td>English</td>\n",
       "      <td>92</td>\n",
       "      <td>1.044074</td>\n",
       "    </tr>\n",
       "    <tr>\n",
       "      <th>8</th>\n",
       "      <td>9</td>\n",
       "      <td>English</td>\n",
       "      <td>85</td>\n",
       "      <td>-0.949158</td>\n",
       "    </tr>\n",
       "    <tr>\n",
       "      <th rowspan=\"4\" valign=\"top\">Math</th>\n",
       "      <th>0</th>\n",
       "      <td>1</td>\n",
       "      <td>Math</td>\n",
       "      <td>85</td>\n",
       "      <td>0.075094</td>\n",
       "    </tr>\n",
       "    <tr>\n",
       "      <th>1</th>\n",
       "      <td>2</td>\n",
       "      <td>Math</td>\n",
       "      <td>90</td>\n",
       "      <td>0.826033</td>\n",
       "    </tr>\n",
       "    <tr>\n",
       "      <th>6</th>\n",
       "      <td>7</td>\n",
       "      <td>Math</td>\n",
       "      <td>75</td>\n",
       "      <td>-1.426785</td>\n",
       "    </tr>\n",
       "    <tr>\n",
       "      <th>9</th>\n",
       "      <td>10</td>\n",
       "      <td>Math</td>\n",
       "      <td>88</td>\n",
       "      <td>0.525657</td>\n",
       "    </tr>\n",
       "    <tr>\n",
       "      <th rowspan=\"3\" valign=\"top\">Science</th>\n",
       "      <th>2</th>\n",
       "      <td>3</td>\n",
       "      <td>Science</td>\n",
       "      <td>78</td>\n",
       "      <td>-1.000000</td>\n",
       "    </tr>\n",
       "    <tr>\n",
       "      <th>3</th>\n",
       "      <td>4</td>\n",
       "      <td>Science</td>\n",
       "      <td>82</td>\n",
       "      <td>1.000000</td>\n",
       "    </tr>\n",
       "    <tr>\n",
       "      <th>7</th>\n",
       "      <td>8</td>\n",
       "      <td>Science</td>\n",
       "      <td>80</td>\n",
       "      <td>0.000000</td>\n",
       "    </tr>\n",
       "  </tbody>\n",
       "</table>\n",
       "</div>"
      ],
      "text/plain": [
       "           Student_ID  Subject  Score  Normalized_Score\n",
       "Subject                                                \n",
       "English 4           5  English     88         -0.094916\n",
       "        5           6  English     92          1.044074\n",
       "        8           9  English     85         -0.949158\n",
       "Math    0           1     Math     85          0.075094\n",
       "        1           2     Math     90          0.826033\n",
       "        6           7     Math     75         -1.426785\n",
       "        9          10     Math     88          0.525657\n",
       "Science 2           3  Science     78         -1.000000\n",
       "        3           4  Science     82          1.000000\n",
       "        7           8  Science     80          0.000000"
      ]
     },
     "execution_count": 5,
     "metadata": {},
     "output_type": "execute_result"
    }
   ],
   "source": [
    "#a. Write a function `normalize_scores` that takes a group as input and normalizes the scores within each subject to have a \n",
    "#mean of 0 and a standard deviation of 1. Then, apply the `normalize_scores` function to the 'Score' column grouped by the\n",
    "#'Subject' column.\n",
    "def normalize_scores(group):\n",
    "     group['Normalized_Score'] = (group['Score'] - group['Score'].mean()) / group['Score'].std()\n",
    "     return group\n",
    "\n",
    "normalized_data = df.groupby('Subject').apply(normalize_scores)\n",
    "normalized_data\n"
   ]
  },
  {
   "cell_type": "code",
   "execution_count": 6,
   "metadata": {},
   "outputs": [
    {
     "name": "stderr",
     "output_type": "stream",
     "text": [
      "/tmp/ipykernel_1112/1019078579.py:6: DeprecationWarning: DataFrameGroupBy.apply operated on the grouping columns. This behavior is deprecated, and in a future version of pandas the grouping columns will be excluded from the operation. Either pass `include_groups=False` to exclude the groupings or explicitly select the grouping columns after groupby to silence this warning.\n",
      "  df.groupby('Subject').apply(compute_ranks)\n"
     ]
    },
    {
     "data": {
      "text/html": [
       "<div>\n",
       "<style scoped>\n",
       "    .dataframe tbody tr th:only-of-type {\n",
       "        vertical-align: middle;\n",
       "    }\n",
       "\n",
       "    .dataframe tbody tr th {\n",
       "        vertical-align: top;\n",
       "    }\n",
       "\n",
       "    .dataframe thead th {\n",
       "        text-align: right;\n",
       "    }\n",
       "</style>\n",
       "<table border=\"1\" class=\"dataframe\">\n",
       "  <thead>\n",
       "    <tr style=\"text-align: right;\">\n",
       "      <th></th>\n",
       "      <th></th>\n",
       "      <th>Student_ID</th>\n",
       "      <th>Subject</th>\n",
       "      <th>Score</th>\n",
       "      <th>Rank</th>\n",
       "    </tr>\n",
       "    <tr>\n",
       "      <th>Subject</th>\n",
       "      <th></th>\n",
       "      <th></th>\n",
       "      <th></th>\n",
       "      <th></th>\n",
       "      <th></th>\n",
       "    </tr>\n",
       "  </thead>\n",
       "  <tbody>\n",
       "    <tr>\n",
       "      <th rowspan=\"3\" valign=\"top\">English</th>\n",
       "      <th>4</th>\n",
       "      <td>5</td>\n",
       "      <td>English</td>\n",
       "      <td>88</td>\n",
       "      <td>2.0</td>\n",
       "    </tr>\n",
       "    <tr>\n",
       "      <th>5</th>\n",
       "      <td>6</td>\n",
       "      <td>English</td>\n",
       "      <td>92</td>\n",
       "      <td>3.0</td>\n",
       "    </tr>\n",
       "    <tr>\n",
       "      <th>8</th>\n",
       "      <td>9</td>\n",
       "      <td>English</td>\n",
       "      <td>85</td>\n",
       "      <td>1.0</td>\n",
       "    </tr>\n",
       "    <tr>\n",
       "      <th rowspan=\"4\" valign=\"top\">Math</th>\n",
       "      <th>0</th>\n",
       "      <td>1</td>\n",
       "      <td>Math</td>\n",
       "      <td>85</td>\n",
       "      <td>2.0</td>\n",
       "    </tr>\n",
       "    <tr>\n",
       "      <th>1</th>\n",
       "      <td>2</td>\n",
       "      <td>Math</td>\n",
       "      <td>90</td>\n",
       "      <td>4.0</td>\n",
       "    </tr>\n",
       "    <tr>\n",
       "      <th>6</th>\n",
       "      <td>7</td>\n",
       "      <td>Math</td>\n",
       "      <td>75</td>\n",
       "      <td>1.0</td>\n",
       "    </tr>\n",
       "    <tr>\n",
       "      <th>9</th>\n",
       "      <td>10</td>\n",
       "      <td>Math</td>\n",
       "      <td>88</td>\n",
       "      <td>3.0</td>\n",
       "    </tr>\n",
       "    <tr>\n",
       "      <th rowspan=\"3\" valign=\"top\">Science</th>\n",
       "      <th>2</th>\n",
       "      <td>3</td>\n",
       "      <td>Science</td>\n",
       "      <td>78</td>\n",
       "      <td>1.0</td>\n",
       "    </tr>\n",
       "    <tr>\n",
       "      <th>3</th>\n",
       "      <td>4</td>\n",
       "      <td>Science</td>\n",
       "      <td>82</td>\n",
       "      <td>3.0</td>\n",
       "    </tr>\n",
       "    <tr>\n",
       "      <th>7</th>\n",
       "      <td>8</td>\n",
       "      <td>Science</td>\n",
       "      <td>80</td>\n",
       "      <td>2.0</td>\n",
       "    </tr>\n",
       "  </tbody>\n",
       "</table>\n",
       "</div>"
      ],
      "text/plain": [
       "           Student_ID  Subject  Score  Rank\n",
       "Subject                                    \n",
       "English 4           5  English     88   2.0\n",
       "        5           6  English     92   3.0\n",
       "        8           9  English     85   1.0\n",
       "Math    0           1     Math     85   2.0\n",
       "        1           2     Math     90   4.0\n",
       "        6           7     Math     75   1.0\n",
       "        9          10     Math     88   3.0\n",
       "Science 2           3  Science     78   1.0\n",
       "        3           4  Science     82   3.0\n",
       "        7           8  Science     80   2.0"
      ]
     },
     "execution_count": 6,
     "metadata": {},
     "output_type": "execute_result"
    }
   ],
   "source": [
    "#b. Compute the ranks of students within each subject in ascending order using a custom function.\n",
    "def compute_ranks(group):\n",
    "    group['Rank'] = group['Score'].rank(method='min', ascending=True)\n",
    "    return group\n",
    "\n",
    "df.groupby('Subject').apply(compute_ranks)"
   ]
  },
  {
   "cell_type": "markdown",
   "metadata": {},
   "source": [
    "This question was a medium difficulty, it took me about 25 minutes to complete. "
   ]
  },
  {
   "cell_type": "markdown",
   "metadata": {},
   "source": [
    "## Exercise 2: Pivot Tables\n",
    "Consider a sales dataset containing information about products, sales amounts, and sales regions. The dataset is structured as follows:\n",
    "\n",
    "    a) Create a pivot table that shows the total sales amount for each product in each region.\n",
    "    b) Calculate the average sales amount for each product across all regions.\n",
    "    c) Extend the pivot table to include the sum of sales amounts for each region.\n",
    "    d) Compute the median sales amount for each product within each region."
   ]
  },
  {
   "cell_type": "code",
   "execution_count": 7,
   "metadata": {},
   "outputs": [
    {
     "data": {
      "text/html": [
       "<div>\n",
       "<style scoped>\n",
       "    .dataframe tbody tr th:only-of-type {\n",
       "        vertical-align: middle;\n",
       "    }\n",
       "\n",
       "    .dataframe tbody tr th {\n",
       "        vertical-align: top;\n",
       "    }\n",
       "\n",
       "    .dataframe thead th {\n",
       "        text-align: right;\n",
       "    }\n",
       "</style>\n",
       "<table border=\"1\" class=\"dataframe\">\n",
       "  <thead>\n",
       "    <tr style=\"text-align: right;\">\n",
       "      <th></th>\n",
       "      <th>Product</th>\n",
       "      <th>Region</th>\n",
       "      <th>Sales</th>\n",
       "    </tr>\n",
       "  </thead>\n",
       "  <tbody>\n",
       "    <tr>\n",
       "      <th>0</th>\n",
       "      <td>A</td>\n",
       "      <td>North</td>\n",
       "      <td>1000</td>\n",
       "    </tr>\n",
       "    <tr>\n",
       "      <th>1</th>\n",
       "      <td>B</td>\n",
       "      <td>North</td>\n",
       "      <td>1200</td>\n",
       "    </tr>\n",
       "    <tr>\n",
       "      <th>2</th>\n",
       "      <td>C</td>\n",
       "      <td>North</td>\n",
       "      <td>800</td>\n",
       "    </tr>\n",
       "    <tr>\n",
       "      <th>3</th>\n",
       "      <td>A</td>\n",
       "      <td>South</td>\n",
       "      <td>900</td>\n",
       "    </tr>\n",
       "    <tr>\n",
       "      <th>4</th>\n",
       "      <td>B</td>\n",
       "      <td>South</td>\n",
       "      <td>1100</td>\n",
       "    </tr>\n",
       "    <tr>\n",
       "      <th>5</th>\n",
       "      <td>C</td>\n",
       "      <td>South</td>\n",
       "      <td>700</td>\n",
       "    </tr>\n",
       "    <tr>\n",
       "      <th>6</th>\n",
       "      <td>A</td>\n",
       "      <td>East</td>\n",
       "      <td>950</td>\n",
       "    </tr>\n",
       "    <tr>\n",
       "      <th>7</th>\n",
       "      <td>B</td>\n",
       "      <td>East</td>\n",
       "      <td>1250</td>\n",
       "    </tr>\n",
       "    <tr>\n",
       "      <th>8</th>\n",
       "      <td>C</td>\n",
       "      <td>East</td>\n",
       "      <td>850</td>\n",
       "    </tr>\n",
       "  </tbody>\n",
       "</table>\n",
       "</div>"
      ],
      "text/plain": [
       "  Product Region  Sales\n",
       "0       A  North   1000\n",
       "1       B  North   1200\n",
       "2       C  North    800\n",
       "3       A  South    900\n",
       "4       B  South   1100\n",
       "5       C  South    700\n",
       "6       A   East    950\n",
       "7       B   East   1250\n",
       "8       C   East    850"
      ]
     },
     "execution_count": 7,
     "metadata": {},
     "output_type": "execute_result"
    }
   ],
   "source": [
    "data = {\n",
    "    'Product': ['A', 'B', 'C', 'A', 'B', 'C', 'A', 'B', 'C'],\n",
    "    'Region': ['North', 'North', 'North', 'South', 'South', 'South', 'East', 'East', 'East'],\n",
    "    'Sales': [1000, 1200, 800, 900, 1100, 700, 950, 1250, 850]\n",
    "}\n",
    "\n",
    "df = pd.DataFrame(data)\n",
    "df"
   ]
  },
  {
   "cell_type": "code",
   "execution_count": 8,
   "metadata": {},
   "outputs": [
    {
     "data": {
      "text/html": [
       "<div>\n",
       "<style scoped>\n",
       "    .dataframe tbody tr th:only-of-type {\n",
       "        vertical-align: middle;\n",
       "    }\n",
       "\n",
       "    .dataframe tbody tr th {\n",
       "        vertical-align: top;\n",
       "    }\n",
       "\n",
       "    .dataframe thead th {\n",
       "        text-align: right;\n",
       "    }\n",
       "</style>\n",
       "<table border=\"1\" class=\"dataframe\">\n",
       "  <thead>\n",
       "    <tr style=\"text-align: right;\">\n",
       "      <th>Region</th>\n",
       "      <th>East</th>\n",
       "      <th>North</th>\n",
       "      <th>South</th>\n",
       "    </tr>\n",
       "    <tr>\n",
       "      <th>Product</th>\n",
       "      <th></th>\n",
       "      <th></th>\n",
       "      <th></th>\n",
       "    </tr>\n",
       "  </thead>\n",
       "  <tbody>\n",
       "    <tr>\n",
       "      <th>A</th>\n",
       "      <td>950</td>\n",
       "      <td>1000</td>\n",
       "      <td>900</td>\n",
       "    </tr>\n",
       "    <tr>\n",
       "      <th>B</th>\n",
       "      <td>1250</td>\n",
       "      <td>1200</td>\n",
       "      <td>1100</td>\n",
       "    </tr>\n",
       "    <tr>\n",
       "      <th>C</th>\n",
       "      <td>850</td>\n",
       "      <td>800</td>\n",
       "      <td>700</td>\n",
       "    </tr>\n",
       "  </tbody>\n",
       "</table>\n",
       "</div>"
      ],
      "text/plain": [
       "Region   East  North  South\n",
       "Product                    \n",
       "A         950   1000    900\n",
       "B        1250   1200   1100\n",
       "C         850    800    700"
      ]
     },
     "execution_count": 8,
     "metadata": {},
     "output_type": "execute_result"
    }
   ],
   "source": [
    "#a) Create a pivot table that shows the total sales amount for each product in each region.\n",
    "pivot_table = df.pivot_table(index='Product', columns='Region', values='Sales', aggfunc='sum')\n",
    "pivot_table"
   ]
  },
  {
   "cell_type": "code",
   "execution_count": 9,
   "metadata": {},
   "outputs": [
    {
     "data": {
      "text/html": [
       "<div>\n",
       "<style scoped>\n",
       "    .dataframe tbody tr th:only-of-type {\n",
       "        vertical-align: middle;\n",
       "    }\n",
       "\n",
       "    .dataframe tbody tr th {\n",
       "        vertical-align: top;\n",
       "    }\n",
       "\n",
       "    .dataframe thead th {\n",
       "        text-align: right;\n",
       "    }\n",
       "</style>\n",
       "<table border=\"1\" class=\"dataframe\">\n",
       "  <thead>\n",
       "    <tr style=\"text-align: right;\">\n",
       "      <th></th>\n",
       "      <th>Sales</th>\n",
       "    </tr>\n",
       "    <tr>\n",
       "      <th>Product</th>\n",
       "      <th></th>\n",
       "    </tr>\n",
       "  </thead>\n",
       "  <tbody>\n",
       "    <tr>\n",
       "      <th>A</th>\n",
       "      <td>950.000000</td>\n",
       "    </tr>\n",
       "    <tr>\n",
       "      <th>B</th>\n",
       "      <td>1183.333333</td>\n",
       "    </tr>\n",
       "    <tr>\n",
       "      <th>C</th>\n",
       "      <td>783.333333</td>\n",
       "    </tr>\n",
       "  </tbody>\n",
       "</table>\n",
       "</div>"
      ],
      "text/plain": [
       "               Sales\n",
       "Product             \n",
       "A         950.000000\n",
       "B        1183.333333\n",
       "C         783.333333"
      ]
     },
     "execution_count": 9,
     "metadata": {},
     "output_type": "execute_result"
    }
   ],
   "source": [
    "#b) Calculate the average sales amount for each product across all regions.\n",
    "pivot_table = df.pivot_table(index='Product', values='Sales', aggfunc='mean')\n",
    "pivot_table"
   ]
  },
  {
   "cell_type": "code",
   "execution_count": 10,
   "metadata": {},
   "outputs": [
    {
     "data": {
      "text/html": [
       "<div>\n",
       "<style scoped>\n",
       "    .dataframe tbody tr th:only-of-type {\n",
       "        vertical-align: middle;\n",
       "    }\n",
       "\n",
       "    .dataframe tbody tr th {\n",
       "        vertical-align: top;\n",
       "    }\n",
       "\n",
       "    .dataframe thead tr th {\n",
       "        text-align: left;\n",
       "    }\n",
       "\n",
       "    .dataframe thead tr:last-of-type th {\n",
       "        text-align: right;\n",
       "    }\n",
       "</style>\n",
       "<table border=\"1\" class=\"dataframe\">\n",
       "  <thead>\n",
       "    <tr>\n",
       "      <th></th>\n",
       "      <th colspan=\"3\" halign=\"left\">mean</th>\n",
       "      <th colspan=\"3\" halign=\"left\">sum</th>\n",
       "    </tr>\n",
       "    <tr>\n",
       "      <th>Region</th>\n",
       "      <th>East</th>\n",
       "      <th>North</th>\n",
       "      <th>South</th>\n",
       "      <th>East</th>\n",
       "      <th>North</th>\n",
       "      <th>South</th>\n",
       "    </tr>\n",
       "    <tr>\n",
       "      <th>Product</th>\n",
       "      <th></th>\n",
       "      <th></th>\n",
       "      <th></th>\n",
       "      <th></th>\n",
       "      <th></th>\n",
       "      <th></th>\n",
       "    </tr>\n",
       "  </thead>\n",
       "  <tbody>\n",
       "    <tr>\n",
       "      <th>A</th>\n",
       "      <td>950.0</td>\n",
       "      <td>1000.0</td>\n",
       "      <td>900.0</td>\n",
       "      <td>950</td>\n",
       "      <td>1000</td>\n",
       "      <td>900</td>\n",
       "    </tr>\n",
       "    <tr>\n",
       "      <th>B</th>\n",
       "      <td>1250.0</td>\n",
       "      <td>1200.0</td>\n",
       "      <td>1100.0</td>\n",
       "      <td>1250</td>\n",
       "      <td>1200</td>\n",
       "      <td>1100</td>\n",
       "    </tr>\n",
       "    <tr>\n",
       "      <th>C</th>\n",
       "      <td>850.0</td>\n",
       "      <td>800.0</td>\n",
       "      <td>700.0</td>\n",
       "      <td>850</td>\n",
       "      <td>800</td>\n",
       "      <td>700</td>\n",
       "    </tr>\n",
       "  </tbody>\n",
       "</table>\n",
       "</div>"
      ],
      "text/plain": [
       "           mean                   sum            \n",
       "Region     East   North   South  East North South\n",
       "Product                                          \n",
       "A         950.0  1000.0   900.0   950  1000   900\n",
       "B        1250.0  1200.0  1100.0  1250  1200  1100\n",
       "C         850.0   800.0   700.0   850   800   700"
      ]
     },
     "execution_count": 10,
     "metadata": {},
     "output_type": "execute_result"
    }
   ],
   "source": [
    "#c) Extend the pivot table to include the sum of sales amounts for each region.\n",
    "pivot_table = df.pivot_table(index='Product', columns='Region', values='Sales', aggfunc=['mean', 'sum'])\n",
    "pivot_table"
   ]
  },
  {
   "cell_type": "code",
   "execution_count": 11,
   "metadata": {},
   "outputs": [
    {
     "data": {
      "text/html": [
       "<div>\n",
       "<style scoped>\n",
       "    .dataframe tbody tr th:only-of-type {\n",
       "        vertical-align: middle;\n",
       "    }\n",
       "\n",
       "    .dataframe tbody tr th {\n",
       "        vertical-align: top;\n",
       "    }\n",
       "\n",
       "    .dataframe thead th {\n",
       "        text-align: right;\n",
       "    }\n",
       "</style>\n",
       "<table border=\"1\" class=\"dataframe\">\n",
       "  <thead>\n",
       "    <tr style=\"text-align: right;\">\n",
       "      <th>Region</th>\n",
       "      <th>East</th>\n",
       "      <th>North</th>\n",
       "      <th>South</th>\n",
       "    </tr>\n",
       "    <tr>\n",
       "      <th>Product</th>\n",
       "      <th></th>\n",
       "      <th></th>\n",
       "      <th></th>\n",
       "    </tr>\n",
       "  </thead>\n",
       "  <tbody>\n",
       "    <tr>\n",
       "      <th>A</th>\n",
       "      <td>950.0</td>\n",
       "      <td>1000.0</td>\n",
       "      <td>900.0</td>\n",
       "    </tr>\n",
       "    <tr>\n",
       "      <th>B</th>\n",
       "      <td>1250.0</td>\n",
       "      <td>1200.0</td>\n",
       "      <td>1100.0</td>\n",
       "    </tr>\n",
       "    <tr>\n",
       "      <th>C</th>\n",
       "      <td>850.0</td>\n",
       "      <td>800.0</td>\n",
       "      <td>700.0</td>\n",
       "    </tr>\n",
       "  </tbody>\n",
       "</table>\n",
       "</div>"
      ],
      "text/plain": [
       "Region     East   North   South\n",
       "Product                        \n",
       "A         950.0  1000.0   900.0\n",
       "B        1250.0  1200.0  1100.0\n",
       "C         850.0   800.0   700.0"
      ]
     },
     "execution_count": 11,
     "metadata": {},
     "output_type": "execute_result"
    }
   ],
   "source": [
    "#d) Compute the median sales amount for each product within each region.\n",
    "pivot_table = df.pivot_table(index='Product', columns='Region', values='Sales', aggfunc='median')\n",
    "pivot_table"
   ]
  },
  {
   "cell_type": "markdown",
   "metadata": {},
   "source": [
    "This question was a medium difficulty. It took me 25 minutes to complete. "
   ]
  },
  {
   "cell_type": "markdown",
   "metadata": {},
   "source": [
    "## Exercise 3: Cross-Tabulation\n",
    "Consider a survey dataset containing information about participants' age groups, gender, and favorite leisure activities. The dataset is structured as follows:\n",
    "\n",
    "    a) Create a cross-tabulation showing the count of participants by age group and gender.\n",
    "    b) Compute the percentage of participants by age group and favorite leisure activity.\n",
    "    c) Extend the cross-tabulation to include the sum of participants by gender.\n",
    "    d) Calculate the ratio of male to female participants within each age group."
   ]
  },
  {
   "cell_type": "code",
   "execution_count": 12,
   "metadata": {},
   "outputs": [
    {
     "data": {
      "text/html": [
       "<div>\n",
       "<style scoped>\n",
       "    .dataframe tbody tr th:only-of-type {\n",
       "        vertical-align: middle;\n",
       "    }\n",
       "\n",
       "    .dataframe tbody tr th {\n",
       "        vertical-align: top;\n",
       "    }\n",
       "\n",
       "    .dataframe thead th {\n",
       "        text-align: right;\n",
       "    }\n",
       "</style>\n",
       "<table border=\"1\" class=\"dataframe\">\n",
       "  <thead>\n",
       "    <tr style=\"text-align: right;\">\n",
       "      <th></th>\n",
       "      <th>Age_Group</th>\n",
       "      <th>Gender</th>\n",
       "      <th>Activity</th>\n",
       "    </tr>\n",
       "  </thead>\n",
       "  <tbody>\n",
       "    <tr>\n",
       "      <th>0</th>\n",
       "      <td>18-25</td>\n",
       "      <td>Male</td>\n",
       "      <td>Reading</td>\n",
       "    </tr>\n",
       "    <tr>\n",
       "      <th>1</th>\n",
       "      <td>26-35</td>\n",
       "      <td>Male</td>\n",
       "      <td>Sports</td>\n",
       "    </tr>\n",
       "    <tr>\n",
       "      <th>2</th>\n",
       "      <td>36-45</td>\n",
       "      <td>Female</td>\n",
       "      <td>Music</td>\n",
       "    </tr>\n",
       "    <tr>\n",
       "      <th>3</th>\n",
       "      <td>18-25</td>\n",
       "      <td>Female</td>\n",
       "      <td>Sports</td>\n",
       "    </tr>\n",
       "    <tr>\n",
       "      <th>4</th>\n",
       "      <td>26-35</td>\n",
       "      <td>Male</td>\n",
       "      <td>Music</td>\n",
       "    </tr>\n",
       "    <tr>\n",
       "      <th>5</th>\n",
       "      <td>36-45</td>\n",
       "      <td>Female</td>\n",
       "      <td>Reading</td>\n",
       "    </tr>\n",
       "  </tbody>\n",
       "</table>\n",
       "</div>"
      ],
      "text/plain": [
       "  Age_Group  Gender Activity\n",
       "0     18-25    Male  Reading\n",
       "1     26-35    Male   Sports\n",
       "2     36-45  Female    Music\n",
       "3     18-25  Female   Sports\n",
       "4     26-35    Male    Music\n",
       "5     36-45  Female  Reading"
      ]
     },
     "execution_count": 12,
     "metadata": {},
     "output_type": "execute_result"
    }
   ],
   "source": [
    "data = {\n",
    "    'Age_Group': ['18-25', '26-35', '36-45', '18-25', '26-35', '36-45'],\n",
    "    'Gender': ['Male', 'Male', 'Female', 'Female', 'Male', 'Female'],\n",
    "    'Activity': ['Reading', 'Sports', 'Music', 'Sports', 'Music', 'Reading']\n",
    "}\n",
    "\n",
    "df = pd.DataFrame(data)\n",
    "df"
   ]
  },
  {
   "cell_type": "code",
   "execution_count": 13,
   "metadata": {},
   "outputs": [
    {
     "data": {
      "text/html": [
       "<div>\n",
       "<style scoped>\n",
       "    .dataframe tbody tr th:only-of-type {\n",
       "        vertical-align: middle;\n",
       "    }\n",
       "\n",
       "    .dataframe tbody tr th {\n",
       "        vertical-align: top;\n",
       "    }\n",
       "\n",
       "    .dataframe thead th {\n",
       "        text-align: right;\n",
       "    }\n",
       "</style>\n",
       "<table border=\"1\" class=\"dataframe\">\n",
       "  <thead>\n",
       "    <tr style=\"text-align: right;\">\n",
       "      <th>Gender</th>\n",
       "      <th>Female</th>\n",
       "      <th>Male</th>\n",
       "    </tr>\n",
       "    <tr>\n",
       "      <th>Age_Group</th>\n",
       "      <th></th>\n",
       "      <th></th>\n",
       "    </tr>\n",
       "  </thead>\n",
       "  <tbody>\n",
       "    <tr>\n",
       "      <th>18-25</th>\n",
       "      <td>1</td>\n",
       "      <td>1</td>\n",
       "    </tr>\n",
       "    <tr>\n",
       "      <th>26-35</th>\n",
       "      <td>0</td>\n",
       "      <td>2</td>\n",
       "    </tr>\n",
       "    <tr>\n",
       "      <th>36-45</th>\n",
       "      <td>2</td>\n",
       "      <td>0</td>\n",
       "    </tr>\n",
       "  </tbody>\n",
       "</table>\n",
       "</div>"
      ],
      "text/plain": [
       "Gender     Female  Male\n",
       "Age_Group              \n",
       "18-25           1     1\n",
       "26-35           0     2\n",
       "36-45           2     0"
      ]
     },
     "execution_count": 13,
     "metadata": {},
     "output_type": "execute_result"
    }
   ],
   "source": [
    "#a) Create a cross-tabulation showing the count of participants by age group and gender.\n",
    "pd.crosstab(df['Age_Group'], df['Gender'])"
   ]
  },
  {
   "cell_type": "code",
   "execution_count": 14,
   "metadata": {},
   "outputs": [
    {
     "data": {
      "text/html": [
       "<div>\n",
       "<style scoped>\n",
       "    .dataframe tbody tr th:only-of-type {\n",
       "        vertical-align: middle;\n",
       "    }\n",
       "\n",
       "    .dataframe tbody tr th {\n",
       "        vertical-align: top;\n",
       "    }\n",
       "\n",
       "    .dataframe thead th {\n",
       "        text-align: right;\n",
       "    }\n",
       "</style>\n",
       "<table border=\"1\" class=\"dataframe\">\n",
       "  <thead>\n",
       "    <tr style=\"text-align: right;\">\n",
       "      <th>Activity</th>\n",
       "      <th>Music</th>\n",
       "      <th>Reading</th>\n",
       "      <th>Sports</th>\n",
       "    </tr>\n",
       "    <tr>\n",
       "      <th>Age_Group</th>\n",
       "      <th></th>\n",
       "      <th></th>\n",
       "      <th></th>\n",
       "    </tr>\n",
       "  </thead>\n",
       "  <tbody>\n",
       "    <tr>\n",
       "      <th>18-25</th>\n",
       "      <td>0.0</td>\n",
       "      <td>50.0</td>\n",
       "      <td>50.0</td>\n",
       "    </tr>\n",
       "    <tr>\n",
       "      <th>26-35</th>\n",
       "      <td>50.0</td>\n",
       "      <td>0.0</td>\n",
       "      <td>50.0</td>\n",
       "    </tr>\n",
       "    <tr>\n",
       "      <th>36-45</th>\n",
       "      <td>50.0</td>\n",
       "      <td>50.0</td>\n",
       "      <td>0.0</td>\n",
       "    </tr>\n",
       "  </tbody>\n",
       "</table>\n",
       "</div>"
      ],
      "text/plain": [
       "Activity   Music  Reading  Sports\n",
       "Age_Group                        \n",
       "18-25        0.0     50.0    50.0\n",
       "26-35       50.0      0.0    50.0\n",
       "36-45       50.0     50.0     0.0"
      ]
     },
     "execution_count": 14,
     "metadata": {},
     "output_type": "execute_result"
    }
   ],
   "source": [
    "#b) Compute the percentage of participants by age group and favorite leisure activity.\n",
    "cross_tab = pd.crosstab(df['Age_Group'], df['Activity'])\n",
    "\n",
    "total_by_age_group = cross_tab.sum(axis=1)\n",
    "percentages = cross_tab.div(total_by_age_group, axis=0) * 100\n",
    "percentages"
   ]
  },
  {
   "cell_type": "code",
   "execution_count": 15,
   "metadata": {},
   "outputs": [
    {
     "data": {
      "text/html": [
       "<div>\n",
       "<style scoped>\n",
       "    .dataframe tbody tr th:only-of-type {\n",
       "        vertical-align: middle;\n",
       "    }\n",
       "\n",
       "    .dataframe tbody tr th {\n",
       "        vertical-align: top;\n",
       "    }\n",
       "\n",
       "    .dataframe thead th {\n",
       "        text-align: right;\n",
       "    }\n",
       "</style>\n",
       "<table border=\"1\" class=\"dataframe\">\n",
       "  <thead>\n",
       "    <tr style=\"text-align: right;\">\n",
       "      <th>Gender</th>\n",
       "      <th>Female</th>\n",
       "      <th>Male</th>\n",
       "      <th>Total</th>\n",
       "    </tr>\n",
       "    <tr>\n",
       "      <th>Age_Group</th>\n",
       "      <th></th>\n",
       "      <th></th>\n",
       "      <th></th>\n",
       "    </tr>\n",
       "  </thead>\n",
       "  <tbody>\n",
       "    <tr>\n",
       "      <th>18-25</th>\n",
       "      <td>1</td>\n",
       "      <td>1</td>\n",
       "      <td>2</td>\n",
       "    </tr>\n",
       "    <tr>\n",
       "      <th>26-35</th>\n",
       "      <td>0</td>\n",
       "      <td>2</td>\n",
       "      <td>2</td>\n",
       "    </tr>\n",
       "    <tr>\n",
       "      <th>36-45</th>\n",
       "      <td>2</td>\n",
       "      <td>0</td>\n",
       "      <td>2</td>\n",
       "    </tr>\n",
       "    <tr>\n",
       "      <th>Total</th>\n",
       "      <td>3</td>\n",
       "      <td>3</td>\n",
       "      <td>6</td>\n",
       "    </tr>\n",
       "  </tbody>\n",
       "</table>\n",
       "</div>"
      ],
      "text/plain": [
       "Gender     Female  Male  Total\n",
       "Age_Group                     \n",
       "18-25           1     1      2\n",
       "26-35           0     2      2\n",
       "36-45           2     0      2\n",
       "Total           3     3      6"
      ]
     },
     "execution_count": 15,
     "metadata": {},
     "output_type": "execute_result"
    }
   ],
   "source": [
    "#c) Extend the cross-tabulation to include the sum of participants by gender.\n",
    "pd.crosstab(df['Age_Group'], df['Gender'], margins=True, margins_name='Total')"
   ]
  },
  {
   "cell_type": "code",
   "execution_count": 16,
   "metadata": {},
   "outputs": [
    {
     "data": {
      "text/plain": [
       "Age_Group\n",
       "18-25    1.0\n",
       "26-35    inf\n",
       "36-45    0.0\n",
       "dtype: float64"
      ]
     },
     "execution_count": 16,
     "metadata": {},
     "output_type": "execute_result"
    }
   ],
   "source": [
    "#d) Calculate the ratio of male to female participants within each age group.\n",
    "cross_tab = pd.crosstab(df['Age_Group'], df['Gender'])\n",
    "\n",
    "cross_tab['Male'] / cross_tab['Female']"
   ]
  },
  {
   "cell_type": "markdown",
   "metadata": {},
   "source": [
    "This question was a medium difficulty, having to review crosstabs. It took me 20 minutes."
   ]
  },
  {
   "cell_type": "markdown",
   "metadata": {},
   "source": [
    "## Exercise 4:\n",
    "\n",
    "Consider the following time series data representing the daily temperature readings (in degrees Celsius) for a particular location:\n",
    "\n",
    "1. **Calculate the following statistics for the temperature data:**\n",
    "      - a. Mean temperature for the year.\n",
    "      - b. Standard deviation of the temperature readings.\n",
    "      - c. Maximum temperature and the date on which it occurred.\n",
    "      - d. Minimum temperature and the date on which it occurred.\n",
    "\n",
    "2. **Find the number of days where the temperature was above the yearly average.**\n",
    "\n",
    "3. **Resample the data to a monthly frequency and calculate the following statistics for each month:**\n",
    "      - a. Mean temperature.\n",
    "      - b. Standard deviation of temperature.\n",
    "      - c. Maximum temperature and the date on which it occurred.\n",
    "      - d. Minimum temperature and the date on which it occurred.\n",
    "\n",
    "4. **Plot the original daily temperature data and the resampled monthly mean temperature data on the same graph. Ensure appropriate labeling of the axes and a legend for clarity.**"
   ]
  },
  {
   "cell_type": "code",
   "execution_count": 17,
   "metadata": {},
   "outputs": [
    {
     "data": {
      "text/plain": [
       "2023-01-01    1.260991\n",
       "2023-01-02   -2.042228\n",
       "2023-01-03    0.084279\n",
       "2023-01-04   -0.123851\n",
       "2023-01-05    0.177580\n",
       "                ...   \n",
       "2023-12-27    0.470015\n",
       "2023-12-28   -0.756151\n",
       "2023-12-29   -0.460292\n",
       "2023-12-30   -0.507714\n",
       "2023-12-31   -0.177404\n",
       "Freq: D, Length: 365, dtype: float64"
      ]
     },
     "execution_count": 17,
     "metadata": {},
     "output_type": "execute_result"
    }
   ],
   "source": [
    "# Generating a date range for the index\n",
    "dates = pd.date_range('2023-01-01', periods=365, freq='D')\n",
    "\n",
    "# Generating random numerical data for the time series\n",
    "data = np.random.randn(len(dates))\n",
    "\n",
    "# Creating a pandas Series with the generated data and using dates as index\n",
    "time_series = pd.Series(data, index=dates)\n",
    "time_series\n"
   ]
  },
  {
   "cell_type": "code",
   "execution_count": 18,
   "metadata": {},
   "outputs": [
    {
     "data": {
      "text/plain": [
       "0.0685723027265169"
      ]
     },
     "execution_count": 18,
     "metadata": {},
     "output_type": "execute_result"
    }
   ],
   "source": [
    "#a. Mean temperature for the year.\n",
    "time_series.mean()"
   ]
  },
  {
   "cell_type": "code",
   "execution_count": 19,
   "metadata": {},
   "outputs": [
    {
     "data": {
      "text/plain": [
       "1.0223295140096942"
      ]
     },
     "execution_count": 19,
     "metadata": {},
     "output_type": "execute_result"
    }
   ],
   "source": [
    "#b. Standard deviation of the temperature readings.\n",
    "time_series.std()"
   ]
  },
  {
   "cell_type": "code",
   "execution_count": 20,
   "metadata": {},
   "outputs": [
    {
     "name": "stdout",
     "output_type": "stream",
     "text": [
      "The maximum temperature is 3.5473802524930775  and it occured on  2023-09-02 00:00:00\n"
     ]
    }
   ],
   "source": [
    "#c. Maximum temperature and the date on which it occurred.\n",
    "max_temperature = time_series.max()\n",
    "max_date = time_series.idxmax()\n",
    "print('The maximum temperature is', max_temperature,' and it occured on ', max_date)"
   ]
  },
  {
   "cell_type": "code",
   "execution_count": 21,
   "metadata": {},
   "outputs": [
    {
     "name": "stdout",
     "output_type": "stream",
     "text": [
      "The minimum temperature is -3.7154912010059697  and it occured on  2023-09-03 00:00:00\n"
     ]
    }
   ],
   "source": [
    "#d. Minimum temperature and the date on which it occurred.\n",
    "min_temperature = time_series.min()\n",
    "min_date = time_series.idxmin()\n",
    "print('The minimum temperature is', min_temperature,' and it occured on ', min_date)"
   ]
  },
  {
   "cell_type": "code",
   "execution_count": 22,
   "metadata": {},
   "outputs": [
    {
     "data": {
      "text/plain": [
       "187"
      ]
     },
     "execution_count": 22,
     "metadata": {},
     "output_type": "execute_result"
    }
   ],
   "source": [
    "#2.Find the number of days where the temperature was above the yearly average.\n",
    "yearly_average = time_series.mean()\n",
    "len(time_series[time_series > yearly_average])\n"
   ]
  },
  {
   "cell_type": "code",
   "execution_count": 23,
   "metadata": {},
   "outputs": [
    {
     "name": "stderr",
     "output_type": "stream",
     "text": [
      "/tmp/ipykernel_1112/3050403515.py:2: FutureWarning: 'M' is deprecated and will be removed in a future version, please use 'ME' instead.\n",
      "  monthly= time_series.resample('M')\n"
     ]
    }
   ],
   "source": [
    "#3. Resample the data to a monthly frequency and calculate the following statistics for each month\n",
    "monthly= time_series.resample('M')"
   ]
  },
  {
   "cell_type": "code",
   "execution_count": 24,
   "metadata": {},
   "outputs": [
    {
     "data": {
      "text/plain": [
       "2023-01-31    0.036725\n",
       "2023-02-28    0.411893\n",
       "2023-03-31    0.123561\n",
       "2023-04-30   -0.384540\n",
       "2023-05-31    0.259567\n",
       "2023-06-30   -0.128731\n",
       "2023-07-31    0.169749\n",
       "2023-08-31    0.058067\n",
       "2023-09-30   -0.285190\n",
       "2023-10-31    0.351859\n",
       "2023-11-30    0.183979\n",
       "2023-12-31    0.030483\n",
       "Freq: ME, dtype: float64"
      ]
     },
     "execution_count": 24,
     "metadata": {},
     "output_type": "execute_result"
    }
   ],
   "source": [
    "#a. Mean temperature.\n",
    "monthly_mean = monthly.mean()\n",
    "monthly_mean"
   ]
  },
  {
   "cell_type": "code",
   "execution_count": 25,
   "metadata": {},
   "outputs": [
    {
     "data": {
      "text/plain": [
       "2023-01-31    1.244037\n",
       "2023-02-28    1.012448\n",
       "2023-03-31    0.942228\n",
       "2023-04-30    1.062122\n",
       "2023-05-31    0.820989\n",
       "2023-06-30    1.112335\n",
       "2023-07-31    0.859462\n",
       "2023-08-31    0.919643\n",
       "2023-09-30    1.265332\n",
       "2023-10-31    0.870011\n",
       "2023-11-30    0.914081\n",
       "2023-12-31    1.017980\n",
       "Freq: ME, dtype: float64"
      ]
     },
     "execution_count": 25,
     "metadata": {},
     "output_type": "execute_result"
    }
   ],
   "source": [
    "#b. Standard deviation of temperature.\n",
    "monthly.std()"
   ]
  },
  {
   "cell_type": "code",
   "execution_count": 26,
   "metadata": {},
   "outputs": [
    {
     "data": {
      "text/plain": [
       "2023-01-31    1.906495\n",
       "2023-02-28    2.403182\n",
       "2023-03-31    2.030984\n",
       "2023-04-30    1.498365\n",
       "2023-05-31    1.924767\n",
       "2023-06-30    1.748512\n",
       "2023-07-31    1.437960\n",
       "2023-08-31    1.624287\n",
       "2023-09-30    3.547380\n",
       "2023-10-31    2.383302\n",
       "2023-11-30    1.831092\n",
       "2023-12-31    2.147539\n",
       "Freq: ME, dtype: float64"
      ]
     },
     "execution_count": 26,
     "metadata": {},
     "output_type": "execute_result"
    }
   ],
   "source": [
    "#c. Maximum temperature and the date on which it occurred.\n",
    "monthly.max()\n"
   ]
  },
  {
   "cell_type": "code",
   "execution_count": 27,
   "metadata": {},
   "outputs": [
    {
     "data": {
      "text/plain": [
       "2023-01-31   -3.649985\n",
       "2023-02-28   -1.239120\n",
       "2023-03-31   -1.508071\n",
       "2023-04-30   -2.475450\n",
       "2023-05-31   -1.248426\n",
       "2023-06-30   -2.430728\n",
       "2023-07-31   -1.857008\n",
       "2023-08-31   -2.190152\n",
       "2023-09-30   -3.715491\n",
       "2023-10-31   -1.095114\n",
       "2023-11-30   -1.232538\n",
       "2023-12-31   -2.715478\n",
       "Freq: ME, dtype: float64"
      ]
     },
     "execution_count": 27,
     "metadata": {},
     "output_type": "execute_result"
    }
   ],
   "source": [
    "#d. Minimum temperature and the date on which it occurred.\n",
    "monthly.min()"
   ]
  },
  {
   "cell_type": "code",
   "execution_count": 28,
   "metadata": {},
   "outputs": [
    {
     "data": {
      "image/png": "[encoded data removed]",
      "text/plain": [
       "<Figure size 640x480 with 1 Axes>"
      ]
     },
     "metadata": {},
     "output_type": "display_data"
    }
   ],
   "source": [
    "#4. Plot the original daily temperature data and the resampled monthly mean temperature data on the same graph. \n",
    "#Ensure appropriate labeling of the axes and a legend for clarity.\n",
    "import matplotlib.pyplot as plt\n",
    "\n",
    "plt.plot(time_series.index, time_series, label='Daily Temperature')\n",
    "\n",
    "plt.plot(monthly_mean.index, monthly_mean, label='Monthly Mean Temperature')\n",
    "\n",
    "plt.xlabel('Date')\n",
    "plt.ylabel('Temperature')\n",
    "plt.legend()\n",
    "plt.show()"
   ]
  },
  {
   "cell_type": "markdown",
   "metadata": {},
   "source": [
    "This question was an easier difficulty and it took about 15 minutes to complete"
   ]
  },
  {
   "cell_type": "markdown",
   "metadata": {},
   "source": [
    "## Exercise 5:\n",
    "\n",
    "Suppose you have a dataset containing the temperature readings in Celsius for a specific location over a period of time. The dataset is indexed by timestamps representing the date and time of each reading.\n",
    "\n",
    "1. **Time Zone Conversion**: Convert the timestamps in the dataset from the local time zone ('America/New_York') to UTC.\n",
    "2. **Temperature Shifting**: Shift the temperature data by 1 hour backward.\n",
    "4. **Resampling**: Resample the dataset to represent daily average temperatures.\n",
    "5. **Visualization**: Plot the original temperature data against the resampled data to visualize the changes."
   ]
  },
  {
   "cell_type": "code",
   "execution_count": 29,
   "metadata": {},
   "outputs": [
    {
     "name": "stderr",
     "output_type": "stream",
     "text": [
      "/tmp/ipykernel_1112/2446387701.py:3: FutureWarning: 'H' is deprecated and will be removed in a future version, please use 'h' instead.\n",
      "  dates = pd.date_range('2024-01-01', periods=100, freq='H')\n"
     ]
    },
    {
     "data": {
      "text/plain": [
       "2024-01-01 00:00:00   -10\n",
       "2024-01-01 01:00:00    -7\n",
       "2024-01-01 02:00:00    -7\n",
       "2024-01-01 03:00:00    29\n",
       "2024-01-01 04:00:00    -1\n",
       "                       ..\n",
       "2024-01-04 23:00:00    -7\n",
       "2024-01-05 00:00:00    24\n",
       "2024-01-05 01:00:00     3\n",
       "2024-01-05 02:00:00    29\n",
       "2024-01-05 03:00:00    11\n",
       "Freq: h, Length: 100, dtype: int64"
      ]
     },
     "execution_count": 29,
     "metadata": {},
     "output_type": "execute_result"
    }
   ],
   "source": [
    "# Create sample data\n",
    "np.random.seed(0)\n",
    "dates = pd.date_range('2024-01-01', periods=100, freq='H')\n",
    "temperatures = np.random.randint(-10, 30, size=(100,))\n",
    "temperature_data = pd.Series(temperatures, index=dates)\n",
    "temperature_data"
   ]
  },
  {
   "cell_type": "code",
   "execution_count": 30,
   "metadata": {},
   "outputs": [
    {
     "data": {
      "text/plain": [
       "2024-01-01 00:00:00-05:00   -10\n",
       "2024-01-01 01:00:00-05:00    -7\n",
       "2024-01-01 02:00:00-05:00    -7\n",
       "2024-01-01 03:00:00-05:00    29\n",
       "2024-01-01 04:00:00-05:00    -1\n",
       "                             ..\n",
       "2024-01-04 23:00:00-05:00    -7\n",
       "2024-01-05 00:00:00-05:00    24\n",
       "2024-01-05 01:00:00-05:00     3\n",
       "2024-01-05 02:00:00-05:00    29\n",
       "2024-01-05 03:00:00-05:00    11\n",
       "Length: 100, dtype: int64"
      ]
     },
     "execution_count": 30,
     "metadata": {},
     "output_type": "execute_result"
    }
   ],
   "source": [
    "#1. Time Zone Conversion**: Convert the timestamps in the dataset from the local time zone ('America/New_York') to UTC.\n",
    "local= temperature_data.tz_localize('America/New_York')\n",
    "local\n"
   ]
  },
  {
   "cell_type": "code",
   "execution_count": 31,
   "metadata": {},
   "outputs": [
    {
     "data": {
      "text/plain": [
       "2024-01-01 05:00:00+00:00   -10\n",
       "2024-01-01 06:00:00+00:00    -7\n",
       "2024-01-01 07:00:00+00:00    -7\n",
       "2024-01-01 08:00:00+00:00    29\n",
       "2024-01-01 09:00:00+00:00    -1\n",
       "                             ..\n",
       "2024-01-05 04:00:00+00:00    -7\n",
       "2024-01-05 05:00:00+00:00    24\n",
       "2024-01-05 06:00:00+00:00     3\n",
       "2024-01-05 07:00:00+00:00    29\n",
       "2024-01-05 08:00:00+00:00    11\n",
       "Length: 100, dtype: int64"
      ]
     },
     "execution_count": 31,
     "metadata": {},
     "output_type": "execute_result"
    }
   ],
   "source": [
    "local.tz_convert('UTC')"
   ]
  },
  {
   "cell_type": "code",
   "execution_count": 32,
   "metadata": {},
   "outputs": [
    {
     "data": {
      "text/plain": [
       "2023-12-31 23:00:00   -10\n",
       "2024-01-01 00:00:00    -7\n",
       "2024-01-01 01:00:00    -7\n",
       "2024-01-01 02:00:00    29\n",
       "2024-01-01 03:00:00    -1\n",
       "                       ..\n",
       "2024-01-04 22:00:00    -7\n",
       "2024-01-04 23:00:00    24\n",
       "2024-01-05 00:00:00     3\n",
       "2024-01-05 01:00:00    29\n",
       "2024-01-05 02:00:00    11\n",
       "Freq: h, Length: 100, dtype: int64"
      ]
     },
     "execution_count": 32,
     "metadata": {},
     "output_type": "execute_result"
    }
   ],
   "source": [
    "#2. Temperature Shifting**: Shift the temperature data by 1 hour backward.\n",
    "temperature_data.shift(freq='-1h')\n"
   ]
  },
  {
   "cell_type": "code",
   "execution_count": 33,
   "metadata": {},
   "outputs": [],
   "source": [
    "#3. Resampling**: Resample the dataset to represent daily average temperatures.\n",
    "daily_avg = temperature_data.resample('D').mean()"
   ]
  },
  {
   "cell_type": "code",
   "execution_count": 34,
   "metadata": {},
   "outputs": [
    {
     "data": {
      "text/plain": [
       "(array([19723. , 19723.5, 19724. , 19724.5, 19725. , 19725.5, 19726. ,\n",
       "        19726.5, 19727. ]),\n",
       " [Text(19723.0, 0, '01-01 00'),\n",
       "  Text(19723.5, 0, '01-01 12'),\n",
       "  Text(19724.0, 0, '01-02 00'),\n",
       "  Text(19724.5, 0, '01-02 12'),\n",
       "  Text(19725.0, 0, '01-03 00'),\n",
       "  Text(19725.5, 0, '01-03 12'),\n",
       "  Text(19726.0, 0, '01-04 00'),\n",
       "  Text(19726.5, 0, '01-04 12'),\n",
       "  Text(19727.0, 0, '01-05 00')])"
      ]
     },
     "execution_count": 34,
     "metadata": {},
     "output_type": "execute_result"
    },
    {
     "data": {
      "image/png": "[encoded data removed]",
      "text/plain": [
       "<Figure size 640x480 with 1 Axes>"
      ]
     },
     "metadata": {},
     "output_type": "display_data"
    }
   ],
   "source": [
    "#4. Visualization**: Plot the original temperature data against the resampled data to visualize the changes.\n",
    "plt.plot(temperature_data, label='Temperature by hour')\n",
    "\n",
    "plt.plot(daily_avg, label='Daily Average')\n",
    "\n",
    "plt.xlabel('Date')\n",
    "plt.ylabel('Temperature')\n",
    "plt.legend()\n",
    "plt.xticks(rotation=90)\n"
   ]
  },
  {
   "cell_type": "markdown",
   "metadata": {},
   "source": [
    "This question was an easier difficulty it took about 15 minutes to complete."
   ]
  },
  {
   "cell_type": "markdown",
   "metadata": {},
   "source": [
    "## Exercise 6: Resampling and Moving Window Functions\n",
    "\n",
    "Consider the following time series data representing the daily stock prices of three companies: Apple (AAPL), Microsoft (MSFT), and ExxonMobil (XOM).\n",
    "\n",
    "1. **Resampling**\n",
    "    - a. Resample the data to a monthly frequency, taking the mean of each month's values.\n",
    "    - b. Resample the data to a quarterly frequency, taking the sum of each quarter's values.\n",
    "    - c. Resample the data to a weekly frequency, using forward filling to fill missing values.\n",
    "\n",
    "2. **Moving Window Functions**\n",
    "    - a. Calculate the 30-day rolling average for each company's stock price.\n",
    "    - b. Calculate the 60-day rolling standard deviation for each company's stock price.\n",
    "    - c. Plot the 50-day exponentially weighted moving average (EWMA) for the Apple stock price alongside its actual price.\n"
   ]
  },
  {
   "cell_type": "code",
   "execution_count": 35,
   "metadata": {},
   "outputs": [
    {
     "data": {
      "text/html": [
       "<div>\n",
       "<style scoped>\n",
       "    .dataframe tbody tr th:only-of-type {\n",
       "        vertical-align: middle;\n",
       "    }\n",
       "\n",
       "    .dataframe tbody tr th {\n",
       "        vertical-align: top;\n",
       "    }\n",
       "\n",
       "    .dataframe thead th {\n",
       "        text-align: right;\n",
       "    }\n",
       "</style>\n",
       "<table border=\"1\" class=\"dataframe\">\n",
       "  <thead>\n",
       "    <tr style=\"text-align: right;\">\n",
       "      <th></th>\n",
       "      <th>AAPL</th>\n",
       "      <th>MSFT</th>\n",
       "      <th>XOM</th>\n",
       "    </tr>\n",
       "  </thead>\n",
       "  <tbody>\n",
       "    <tr>\n",
       "      <th>2022-01-01</th>\n",
       "      <td>167.640523</td>\n",
       "      <td>101.913662</td>\n",
       "      <td>51.111925</td>\n",
       "    </tr>\n",
       "    <tr>\n",
       "      <th>2022-01-02</th>\n",
       "      <td>154.001572</td>\n",
       "      <td>99.828789</td>\n",
       "      <td>51.784948</td>\n",
       "    </tr>\n",
       "    <tr>\n",
       "      <th>2022-01-03</th>\n",
       "      <td>159.787380</td>\n",
       "      <td>105.481734</td>\n",
       "      <td>49.155370</td>\n",
       "    </tr>\n",
       "    <tr>\n",
       "      <th>2022-01-04</th>\n",
       "      <td>172.408932</td>\n",
       "      <td>98.828921</td>\n",
       "      <td>50.209428</td>\n",
       "    </tr>\n",
       "    <tr>\n",
       "      <th>2022-01-05</th>\n",
       "      <td>168.675580</td>\n",
       "      <td>98.262747</td>\n",
       "      <td>50.456107</td>\n",
       "    </tr>\n",
       "  </tbody>\n",
       "</table>\n",
       "</div>"
      ],
      "text/plain": [
       "                  AAPL        MSFT        XOM\n",
       "2022-01-01  167.640523  101.913662  51.111925\n",
       "2022-01-02  154.001572   99.828789  51.784948\n",
       "2022-01-03  159.787380  105.481734  49.155370\n",
       "2022-01-04  172.408932   98.828921  50.209428\n",
       "2022-01-05  168.675580   98.262747  50.456107"
      ]
     },
     "execution_count": 35,
     "metadata": {},
     "output_type": "execute_result"
    }
   ],
   "source": [
    "# Generate sample data\n",
    "np.random.seed(0)\n",
    "dates = pd.date_range(\"2022-01-01\", periods=500)\n",
    "stock_prices = pd.DataFrame(\n",
    "    {\n",
    "        \"AAPL\": np.random.normal(150, 10, 500),\n",
    "        \"MSFT\": np.random.normal(100, 5, 500),\n",
    "        \"XOM\": np.random.normal(50, 2, 500),\n",
    "    },\n",
    "    index=dates,\n",
    ")\n",
    "stock_prices.head()"
   ]
  },
  {
   "cell_type": "code",
   "execution_count": 36,
   "metadata": {},
   "outputs": [
    {
     "name": "stderr",
     "output_type": "stream",
     "text": [
      "/tmp/ipykernel_1112/3381515792.py:2: FutureWarning: 'M' is deprecated and will be removed in a future version, please use 'ME' instead.\n",
      "  monthly_mean = stock_prices.resample('M').mean()\n"
     ]
    },
    {
     "data": {
      "text/html": [
       "<div>\n",
       "<style scoped>\n",
       "    .dataframe tbody tr th:only-of-type {\n",
       "        vertical-align: middle;\n",
       "    }\n",
       "\n",
       "    .dataframe tbody tr th {\n",
       "        vertical-align: top;\n",
       "    }\n",
       "\n",
       "    .dataframe thead th {\n",
       "        text-align: right;\n",
       "    }\n",
       "</style>\n",
       "<table border=\"1\" class=\"dataframe\">\n",
       "  <thead>\n",
       "    <tr style=\"text-align: right;\">\n",
       "      <th></th>\n",
       "      <th>AAPL</th>\n",
       "      <th>MSFT</th>\n",
       "      <th>XOM</th>\n",
       "    </tr>\n",
       "  </thead>\n",
       "  <tbody>\n",
       "    <tr>\n",
       "      <th>2022-01-31</th>\n",
       "      <td>154.335691</td>\n",
       "      <td>98.953869</td>\n",
       "      <td>49.926940</td>\n",
       "    </tr>\n",
       "    <tr>\n",
       "      <th>2022-02-28</th>\n",
       "      <td>146.972192</td>\n",
       "      <td>99.188173</td>\n",
       "      <td>50.590579</td>\n",
       "    </tr>\n",
       "    <tr>\n",
       "      <th>2022-03-31</th>\n",
       "      <td>148.588913</td>\n",
       "      <td>98.729817</td>\n",
       "      <td>49.504702</td>\n",
       "    </tr>\n",
       "    <tr>\n",
       "      <th>2022-04-30</th>\n",
       "      <td>155.108334</td>\n",
       "      <td>98.634013</td>\n",
       "      <td>50.510185</td>\n",
       "    </tr>\n",
       "    <tr>\n",
       "      <th>2022-05-31</th>\n",
       "      <td>150.911578</td>\n",
       "      <td>100.436514</td>\n",
       "      <td>50.037935</td>\n",
       "    </tr>\n",
       "    <tr>\n",
       "      <th>2022-06-30</th>\n",
       "      <td>149.232252</td>\n",
       "      <td>98.300823</td>\n",
       "      <td>50.787391</td>\n",
       "    </tr>\n",
       "    <tr>\n",
       "      <th>2022-07-31</th>\n",
       "      <td>149.536256</td>\n",
       "      <td>100.511993</td>\n",
       "      <td>49.972422</td>\n",
       "    </tr>\n",
       "    <tr>\n",
       "      <th>2022-08-31</th>\n",
       "      <td>148.476571</td>\n",
       "      <td>98.799979</td>\n",
       "      <td>50.248071</td>\n",
       "    </tr>\n",
       "    <tr>\n",
       "      <th>2022-09-30</th>\n",
       "      <td>147.210386</td>\n",
       "      <td>99.950015</td>\n",
       "      <td>49.987890</td>\n",
       "    </tr>\n",
       "    <tr>\n",
       "      <th>2022-10-31</th>\n",
       "      <td>151.904889</td>\n",
       "      <td>99.154510</td>\n",
       "      <td>49.647069</td>\n",
       "    </tr>\n",
       "    <tr>\n",
       "      <th>2022-11-30</th>\n",
       "      <td>148.074499</td>\n",
       "      <td>100.967233</td>\n",
       "      <td>49.604054</td>\n",
       "    </tr>\n",
       "    <tr>\n",
       "      <th>2022-12-31</th>\n",
       "      <td>147.873397</td>\n",
       "      <td>99.261951</td>\n",
       "      <td>50.124253</td>\n",
       "    </tr>\n",
       "    <tr>\n",
       "      <th>2023-01-31</th>\n",
       "      <td>146.392866</td>\n",
       "      <td>99.098717</td>\n",
       "      <td>50.487162</td>\n",
       "    </tr>\n",
       "    <tr>\n",
       "      <th>2023-02-28</th>\n",
       "      <td>152.398561</td>\n",
       "      <td>99.580895</td>\n",
       "      <td>49.504843</td>\n",
       "    </tr>\n",
       "    <tr>\n",
       "      <th>2023-03-31</th>\n",
       "      <td>149.012994</td>\n",
       "      <td>101.637790</td>\n",
       "      <td>50.201997</td>\n",
       "    </tr>\n",
       "    <tr>\n",
       "      <th>2023-04-30</th>\n",
       "      <td>149.482598</td>\n",
       "      <td>101.231069</td>\n",
       "      <td>49.809902</td>\n",
       "    </tr>\n",
       "    <tr>\n",
       "      <th>2023-05-31</th>\n",
       "      <td>150.638459</td>\n",
       "      <td>100.328983</td>\n",
       "      <td>50.058363</td>\n",
       "    </tr>\n",
       "  </tbody>\n",
       "</table>\n",
       "</div>"
      ],
      "text/plain": [
       "                  AAPL        MSFT        XOM\n",
       "2022-01-31  154.335691   98.953869  49.926940\n",
       "2022-02-28  146.972192   99.188173  50.590579\n",
       "2022-03-31  148.588913   98.729817  49.504702\n",
       "2022-04-30  155.108334   98.634013  50.510185\n",
       "2022-05-31  150.911578  100.436514  50.037935\n",
       "2022-06-30  149.232252   98.300823  50.787391\n",
       "2022-07-31  149.536256  100.511993  49.972422\n",
       "2022-08-31  148.476571   98.799979  50.248071\n",
       "2022-09-30  147.210386   99.950015  49.987890\n",
       "2022-10-31  151.904889   99.154510  49.647069\n",
       "2022-11-30  148.074499  100.967233  49.604054\n",
       "2022-12-31  147.873397   99.261951  50.124253\n",
       "2023-01-31  146.392866   99.098717  50.487162\n",
       "2023-02-28  152.398561   99.580895  49.504843\n",
       "2023-03-31  149.012994  101.637790  50.201997\n",
       "2023-04-30  149.482598  101.231069  49.809902\n",
       "2023-05-31  150.638459  100.328983  50.058363"
      ]
     },
     "execution_count": 36,
     "metadata": {},
     "output_type": "execute_result"
    }
   ],
   "source": [
    "#a. Resample the data to a monthly frequency, taking the mean of each month's values.\n",
    "monthly_mean = stock_prices.resample('M').mean()\n",
    "monthly_mean\n"
   ]
  },
  {
   "cell_type": "code",
   "execution_count": 37,
   "metadata": {},
   "outputs": [
    {
     "name": "stderr",
     "output_type": "stream",
     "text": [
      "/tmp/ipykernel_1112/1509241118.py:2: FutureWarning: 'Q' is deprecated and will be removed in a future version, please use 'QE' instead.\n",
      "  quarterly_sum = stock_prices.resample('Q').sum()\n"
     ]
    },
    {
     "data": {
      "text/html": [
       "<div>\n",
       "<style scoped>\n",
       "    .dataframe tbody tr th:only-of-type {\n",
       "        vertical-align: middle;\n",
       "    }\n",
       "\n",
       "    .dataframe tbody tr th {\n",
       "        vertical-align: top;\n",
       "    }\n",
       "\n",
       "    .dataframe thead th {\n",
       "        text-align: right;\n",
       "    }\n",
       "</style>\n",
       "<table border=\"1\" class=\"dataframe\">\n",
       "  <thead>\n",
       "    <tr style=\"text-align: right;\">\n",
       "      <th></th>\n",
       "      <th>AAPL</th>\n",
       "      <th>MSFT</th>\n",
       "      <th>XOM</th>\n",
       "    </tr>\n",
       "  </thead>\n",
       "  <tbody>\n",
       "    <tr>\n",
       "      <th>2022-03-31</th>\n",
       "      <td>13505.884079</td>\n",
       "      <td>8905.463096</td>\n",
       "      <td>4498.917095</td>\n",
       "    </tr>\n",
       "    <tr>\n",
       "      <th>2022-06-30</th>\n",
       "      <td>13808.476499</td>\n",
       "      <td>9021.577012</td>\n",
       "      <td>4590.103249</td>\n",
       "    </tr>\n",
       "    <tr>\n",
       "      <th>2022-09-30</th>\n",
       "      <td>13654.709207</td>\n",
       "      <td>9177.171576</td>\n",
       "      <td>4606.471990</td>\n",
       "    </tr>\n",
       "    <tr>\n",
       "      <th>2022-12-31</th>\n",
       "      <td>13735.361822</td>\n",
       "      <td>9179.927296</td>\n",
       "      <td>4581.032617</td>\n",
       "    </tr>\n",
       "    <tr>\n",
       "      <th>2023-03-31</th>\n",
       "      <td>13424.741367</td>\n",
       "      <td>9011.096769</td>\n",
       "      <td>4507.499538</td>\n",
       "    </tr>\n",
       "    <tr>\n",
       "      <th>2023-06-30</th>\n",
       "      <td>6744.054829</td>\n",
       "      <td>4541.866812</td>\n",
       "      <td>2245.172521</td>\n",
       "    </tr>\n",
       "  </tbody>\n",
       "</table>\n",
       "</div>"
      ],
      "text/plain": [
       "                    AAPL         MSFT          XOM\n",
       "2022-03-31  13505.884079  8905.463096  4498.917095\n",
       "2022-06-30  13808.476499  9021.577012  4590.103249\n",
       "2022-09-30  13654.709207  9177.171576  4606.471990\n",
       "2022-12-31  13735.361822  9179.927296  4581.032617\n",
       "2023-03-31  13424.741367  9011.096769  4507.499538\n",
       "2023-06-30   6744.054829  4541.866812  2245.172521"
      ]
     },
     "execution_count": 37,
     "metadata": {},
     "output_type": "execute_result"
    }
   ],
   "source": [
    "#b. Resample the data to a quarterly frequency, taking the sum of each quarter's values.\n",
    "quarterly_sum = stock_prices.resample('Q').sum()\n",
    "quarterly_sum\n"
   ]
  },
  {
   "cell_type": "code",
   "execution_count": 38,
   "metadata": {},
   "outputs": [
    {
     "data": {
      "text/html": [
       "<div>\n",
       "<style scoped>\n",
       "    .dataframe tbody tr th:only-of-type {\n",
       "        vertical-align: middle;\n",
       "    }\n",
       "\n",
       "    .dataframe tbody tr th {\n",
       "        vertical-align: top;\n",
       "    }\n",
       "\n",
       "    .dataframe thead th {\n",
       "        text-align: right;\n",
       "    }\n",
       "</style>\n",
       "<table border=\"1\" class=\"dataframe\">\n",
       "  <thead>\n",
       "    <tr style=\"text-align: right;\">\n",
       "      <th></th>\n",
       "      <th>AAPL</th>\n",
       "      <th>MSFT</th>\n",
       "      <th>XOM</th>\n",
       "    </tr>\n",
       "  </thead>\n",
       "  <tbody>\n",
       "    <tr>\n",
       "      <th>2022-01-02</th>\n",
       "      <td>154.001572</td>\n",
       "      <td>99.828789</td>\n",
       "      <td>51.784948</td>\n",
       "    </tr>\n",
       "    <tr>\n",
       "      <th>2022-01-09</th>\n",
       "      <td>148.967811</td>\n",
       "      <td>94.104210</td>\n",
       "      <td>49.901352</td>\n",
       "    </tr>\n",
       "    <tr>\n",
       "      <th>2022-01-16</th>\n",
       "      <td>153.336743</td>\n",
       "      <td>100.879095</td>\n",
       "      <td>48.185400</td>\n",
       "    </tr>\n",
       "    <tr>\n",
       "      <th>2022-01-23</th>\n",
       "      <td>158.644362</td>\n",
       "      <td>91.593909</td>\n",
       "      <td>49.165045</td>\n",
       "    </tr>\n",
       "    <tr>\n",
       "      <th>2022-01-30</th>\n",
       "      <td>164.693588</td>\n",
       "      <td>104.320262</td>\n",
       "      <td>48.962200</td>\n",
       "    </tr>\n",
       "    <tr>\n",
       "      <th>...</th>\n",
       "      <td>...</td>\n",
       "      <td>...</td>\n",
       "      <td>...</td>\n",
       "    </tr>\n",
       "    <tr>\n",
       "      <th>2023-04-23</th>\n",
       "      <td>141.175812</td>\n",
       "      <td>95.679775</td>\n",
       "      <td>50.347424</td>\n",
       "    </tr>\n",
       "    <tr>\n",
       "      <th>2023-04-30</th>\n",
       "      <td>158.625960</td>\n",
       "      <td>95.310599</td>\n",
       "      <td>51.375763</td>\n",
       "    </tr>\n",
       "    <tr>\n",
       "      <th>2023-05-07</th>\n",
       "      <td>146.500566</td>\n",
       "      <td>100.893964</td>\n",
       "      <td>48.519726</td>\n",
       "    </tr>\n",
       "    <tr>\n",
       "      <th>2023-05-14</th>\n",
       "      <td>139.819581</td>\n",
       "      <td>94.261945</td>\n",
       "      <td>47.841314</td>\n",
       "    </tr>\n",
       "    <tr>\n",
       "      <th>2023-05-21</th>\n",
       "      <td>149.221452</td>\n",
       "      <td>98.209430</td>\n",
       "      <td>49.771549</td>\n",
       "    </tr>\n",
       "  </tbody>\n",
       "</table>\n",
       "<p>73 rows × 3 columns</p>\n",
       "</div>"
      ],
      "text/plain": [
       "                  AAPL        MSFT        XOM\n",
       "2022-01-02  154.001572   99.828789  51.784948\n",
       "2022-01-09  148.967811   94.104210  49.901352\n",
       "2022-01-16  153.336743  100.879095  48.185400\n",
       "2022-01-23  158.644362   91.593909  49.165045\n",
       "2022-01-30  164.693588  104.320262  48.962200\n",
       "...                ...         ...        ...\n",
       "2023-04-23  141.175812   95.679775  50.347424\n",
       "2023-04-30  158.625960   95.310599  51.375763\n",
       "2023-05-07  146.500566  100.893964  48.519726\n",
       "2023-05-14  139.819581   94.261945  47.841314\n",
       "2023-05-21  149.221452   98.209430  49.771549\n",
       "\n",
       "[73 rows x 3 columns]"
      ]
     },
     "execution_count": 38,
     "metadata": {},
     "output_type": "execute_result"
    }
   ],
   "source": [
    "#c. Resample the data to a weekly frequency, using forward filling to fill missing values.\n",
    "weekly = stock_prices.resample('W').ffill()\n",
    "weekly"
   ]
  },
  {
   "cell_type": "code",
   "execution_count": 39,
   "metadata": {},
   "outputs": [
    {
     "data": {
      "text/html": [
       "<div>\n",
       "<style scoped>\n",
       "    .dataframe tbody tr th:only-of-type {\n",
       "        vertical-align: middle;\n",
       "    }\n",
       "\n",
       "    .dataframe tbody tr th {\n",
       "        vertical-align: top;\n",
       "    }\n",
       "\n",
       "    .dataframe thead th {\n",
       "        text-align: right;\n",
       "    }\n",
       "</style>\n",
       "<table border=\"1\" class=\"dataframe\">\n",
       "  <thead>\n",
       "    <tr style=\"text-align: right;\">\n",
       "      <th></th>\n",
       "      <th>AAPL</th>\n",
       "      <th>MSFT</th>\n",
       "      <th>XOM</th>\n",
       "    </tr>\n",
       "  </thead>\n",
       "  <tbody>\n",
       "    <tr>\n",
       "      <th>2022-01-01</th>\n",
       "      <td>NaN</td>\n",
       "      <td>NaN</td>\n",
       "      <td>NaN</td>\n",
       "    </tr>\n",
       "    <tr>\n",
       "      <th>2022-01-02</th>\n",
       "      <td>NaN</td>\n",
       "      <td>NaN</td>\n",
       "      <td>NaN</td>\n",
       "    </tr>\n",
       "    <tr>\n",
       "      <th>2022-01-03</th>\n",
       "      <td>NaN</td>\n",
       "      <td>NaN</td>\n",
       "      <td>NaN</td>\n",
       "    </tr>\n",
       "    <tr>\n",
       "      <th>2022-01-04</th>\n",
       "      <td>NaN</td>\n",
       "      <td>NaN</td>\n",
       "      <td>NaN</td>\n",
       "    </tr>\n",
       "    <tr>\n",
       "      <th>2022-01-05</th>\n",
       "      <td>NaN</td>\n",
       "      <td>NaN</td>\n",
       "      <td>NaN</td>\n",
       "    </tr>\n",
       "    <tr>\n",
       "      <th>...</th>\n",
       "      <td>...</td>\n",
       "      <td>...</td>\n",
       "      <td>...</td>\n",
       "    </tr>\n",
       "    <tr>\n",
       "      <th>2023-05-11</th>\n",
       "      <td>150.673098</td>\n",
       "      <td>101.247090</td>\n",
       "      <td>50.234598</td>\n",
       "    </tr>\n",
       "    <tr>\n",
       "      <th>2023-05-12</th>\n",
       "      <td>150.773749</td>\n",
       "      <td>101.211985</td>\n",
       "      <td>50.214144</td>\n",
       "    </tr>\n",
       "    <tr>\n",
       "      <th>2023-05-13</th>\n",
       "      <td>150.866710</td>\n",
       "      <td>100.966140</td>\n",
       "      <td>50.145851</td>\n",
       "    </tr>\n",
       "    <tr>\n",
       "      <th>2023-05-14</th>\n",
       "      <td>151.290236</td>\n",
       "      <td>100.659800</td>\n",
       "      <td>50.076277</td>\n",
       "    </tr>\n",
       "    <tr>\n",
       "      <th>2023-05-15</th>\n",
       "      <td>151.180456</td>\n",
       "      <td>100.467336</td>\n",
       "      <td>50.046261</td>\n",
       "    </tr>\n",
       "  </tbody>\n",
       "</table>\n",
       "<p>500 rows × 3 columns</p>\n",
       "</div>"
      ],
      "text/plain": [
       "                  AAPL        MSFT        XOM\n",
       "2022-01-01         NaN         NaN        NaN\n",
       "2022-01-02         NaN         NaN        NaN\n",
       "2022-01-03         NaN         NaN        NaN\n",
       "2022-01-04         NaN         NaN        NaN\n",
       "2022-01-05         NaN         NaN        NaN\n",
       "...                ...         ...        ...\n",
       "2023-05-11  150.673098  101.247090  50.234598\n",
       "2023-05-12  150.773749  101.211985  50.214144\n",
       "2023-05-13  150.866710  100.966140  50.145851\n",
       "2023-05-14  151.290236  100.659800  50.076277\n",
       "2023-05-15  151.180456  100.467336  50.046261\n",
       "\n",
       "[500 rows x 3 columns]"
      ]
     },
     "execution_count": 39,
     "metadata": {},
     "output_type": "execute_result"
    }
   ],
   "source": [
    "#a. Calculate the 30-day rolling average for each company's stock price.\n",
    "stock_prices.rolling(window=30).mean()"
   ]
  },
  {
   "cell_type": "code",
   "execution_count": 40,
   "metadata": {},
   "outputs": [
    {
     "data": {
      "text/html": [
       "<div>\n",
       "<style scoped>\n",
       "    .dataframe tbody tr th:only-of-type {\n",
       "        vertical-align: middle;\n",
       "    }\n",
       "\n",
       "    .dataframe tbody tr th {\n",
       "        vertical-align: top;\n",
       "    }\n",
       "\n",
       "    .dataframe thead th {\n",
       "        text-align: right;\n",
       "    }\n",
       "</style>\n",
       "<table border=\"1\" class=\"dataframe\">\n",
       "  <thead>\n",
       "    <tr style=\"text-align: right;\">\n",
       "      <th></th>\n",
       "      <th>AAPL</th>\n",
       "      <th>MSFT</th>\n",
       "      <th>XOM</th>\n",
       "    </tr>\n",
       "  </thead>\n",
       "  <tbody>\n",
       "    <tr>\n",
       "      <th>2022-01-01</th>\n",
       "      <td>NaN</td>\n",
       "      <td>NaN</td>\n",
       "      <td>NaN</td>\n",
       "    </tr>\n",
       "    <tr>\n",
       "      <th>2022-01-02</th>\n",
       "      <td>NaN</td>\n",
       "      <td>NaN</td>\n",
       "      <td>NaN</td>\n",
       "    </tr>\n",
       "    <tr>\n",
       "      <th>2022-01-03</th>\n",
       "      <td>NaN</td>\n",
       "      <td>NaN</td>\n",
       "      <td>NaN</td>\n",
       "    </tr>\n",
       "    <tr>\n",
       "      <th>2022-01-04</th>\n",
       "      <td>NaN</td>\n",
       "      <td>NaN</td>\n",
       "      <td>NaN</td>\n",
       "    </tr>\n",
       "    <tr>\n",
       "      <th>2022-01-05</th>\n",
       "      <td>NaN</td>\n",
       "      <td>NaN</td>\n",
       "      <td>NaN</td>\n",
       "    </tr>\n",
       "    <tr>\n",
       "      <th>...</th>\n",
       "      <td>...</td>\n",
       "      <td>...</td>\n",
       "      <td>...</td>\n",
       "    </tr>\n",
       "    <tr>\n",
       "      <th>2023-05-11</th>\n",
       "      <td>10.778496</td>\n",
       "      <td>4.337722</td>\n",
       "      <td>1.924630</td>\n",
       "    </tr>\n",
       "    <tr>\n",
       "      <th>2023-05-12</th>\n",
       "      <td>10.764948</td>\n",
       "      <td>4.266186</td>\n",
       "      <td>1.916500</td>\n",
       "    </tr>\n",
       "    <tr>\n",
       "      <th>2023-05-13</th>\n",
       "      <td>10.786289</td>\n",
       "      <td>4.170738</td>\n",
       "      <td>1.889833</td>\n",
       "    </tr>\n",
       "    <tr>\n",
       "      <th>2023-05-14</th>\n",
       "      <td>10.813670</td>\n",
       "      <td>4.215371</td>\n",
       "      <td>1.910845</td>\n",
       "    </tr>\n",
       "    <tr>\n",
       "      <th>2023-05-15</th>\n",
       "      <td>10.812949</td>\n",
       "      <td>4.202859</td>\n",
       "      <td>1.887022</td>\n",
       "    </tr>\n",
       "  </tbody>\n",
       "</table>\n",
       "<p>500 rows × 3 columns</p>\n",
       "</div>"
      ],
      "text/plain": [
       "                 AAPL      MSFT       XOM\n",
       "2022-01-01        NaN       NaN       NaN\n",
       "2022-01-02        NaN       NaN       NaN\n",
       "2022-01-03        NaN       NaN       NaN\n",
       "2022-01-04        NaN       NaN       NaN\n",
       "2022-01-05        NaN       NaN       NaN\n",
       "...               ...       ...       ...\n",
       "2023-05-11  10.778496  4.337722  1.924630\n",
       "2023-05-12  10.764948  4.266186  1.916500\n",
       "2023-05-13  10.786289  4.170738  1.889833\n",
       "2023-05-14  10.813670  4.215371  1.910845\n",
       "2023-05-15  10.812949  4.202859  1.887022\n",
       "\n",
       "[500 rows x 3 columns]"
      ]
     },
     "execution_count": 40,
     "metadata": {},
     "output_type": "execute_result"
    }
   ],
   "source": [
    "#b. Calculate the 60-day rolling standard deviation for each company's stock price.\n",
    "stock_prices.rolling(window=60).std()"
   ]
  },
  {
   "cell_type": "code",
   "execution_count": 41,
   "metadata": {},
   "outputs": [
    {
     "data": {
      "image/png": "[encoded data removed]",
      "text/plain": [
       "<Figure size 1000x600 with 1 Axes>"
      ]
     },
     "metadata": {},
     "output_type": "display_data"
    }
   ],
   "source": [
    "#c. Plot the 50-day exponentially weighted moving average (EWMA) for the Apple stock price alongside its actual price.\n",
    "ewma = stock_prices[\"AAPL\"].ewm(span=50).mean()\n",
    "\n",
    "# Plot the actual price and the EWMA\n",
    "plt.figure(figsize=(10, 6))\n",
    "plt.plot(stock_prices.index, stock_prices[\"AAPL\"], label=\"Actual Price\")\n",
    "plt.plot(stock_prices.index, ewma, label=\"50-day EWMA\")\n",
    "plt.title(\"Apple Stock Price 50-day EWMA\")\n",
    "plt.xlabel(\"Date\")\n",
    "plt.ylabel(\"Price\")\n",
    "plt.legend()\n",
    "plt.show()"
   ]
  },
  {
   "cell_type": "markdown",
   "metadata": {},
   "source": [
    "This question was a medium dificulty it took me about 20 minutes after reviewing the notes."
   ]
  },
  {
   "cell_type": "markdown",
   "metadata": {},
   "source": [
    "## Exercise 7: Modeling with Patsy Formulas\n",
    "\n",
    "Consider a dataset containing information about students' performance in various subjects. The dataset includes the following columns:\n",
    "\n",
    "- `Math_Score`: The score obtained by the student in the Math exam.\n",
    "- `Science_Score`: The score obtained by the student in the Science exam.\n",
    "- `English_Score`: The score obtained by the student in the English exam.\n",
    "- `Gender`: The gender of the student (Male or Female).\n",
    "- `School_Type`: The type of school attended by the student (Public or Private).\n",
    "\n",
    "Your task is to perform the following modeling tasks using Patsy formulas:\n",
    "\n",
    "1. **Feature Engineering**:\n",
    "    - a. Create a new feature called `Total_Score` by summing up the scores obtained by the student in all subjects.\n",
    "    - b. Create dummy variables for the `Gender` column.\n",
    "    - c. Create dummy variables for the `School_Type` column.\n",
    "\n",
    "2. **Modeling**:\n",
    "    - a. Using the Patsy formula syntax, create a linear model to predict the `Total_Score` based on the scores obtained in individual subjects (`Math_Score`, `Science_Score`, `English_Score`), gender (`Gender`), and school type (`School_Type`).\n",
    "    - b. Fit the model to the dataset and extract the coefficients associated with each predictor variable.\n",
    "    - c. Interpret the coefficients obtained from the model in terms of how they contribute to the predicted total score."
   ]
  },
  {
   "cell_type": "code",
   "execution_count": 42,
   "metadata": {},
   "outputs": [
    {
     "data": {
      "text/html": [
       "<div>\n",
       "<style scoped>\n",
       "    .dataframe tbody tr th:only-of-type {\n",
       "        vertical-align: middle;\n",
       "    }\n",
       "\n",
       "    .dataframe tbody tr th {\n",
       "        vertical-align: top;\n",
       "    }\n",
       "\n",
       "    .dataframe thead th {\n",
       "        text-align: right;\n",
       "    }\n",
       "</style>\n",
       "<table border=\"1\" class=\"dataframe\">\n",
       "  <thead>\n",
       "    <tr style=\"text-align: right;\">\n",
       "      <th></th>\n",
       "      <th>Math_Score</th>\n",
       "      <th>Science_Score</th>\n",
       "      <th>English_Score</th>\n",
       "      <th>Gender</th>\n",
       "      <th>School_Type</th>\n",
       "    </tr>\n",
       "  </thead>\n",
       "  <tbody>\n",
       "    <tr>\n",
       "      <th>0</th>\n",
       "      <td>85</td>\n",
       "      <td>75</td>\n",
       "      <td>80</td>\n",
       "      <td>Male</td>\n",
       "      <td>Public</td>\n",
       "    </tr>\n",
       "    <tr>\n",
       "      <th>1</th>\n",
       "      <td>90</td>\n",
       "      <td>85</td>\n",
       "      <td>70</td>\n",
       "      <td>Female</td>\n",
       "      <td>Private</td>\n",
       "    </tr>\n",
       "    <tr>\n",
       "      <th>2</th>\n",
       "      <td>78</td>\n",
       "      <td>80</td>\n",
       "      <td>85</td>\n",
       "      <td>Male</td>\n",
       "      <td>Public</td>\n",
       "    </tr>\n",
       "    <tr>\n",
       "      <th>3</th>\n",
       "      <td>65</td>\n",
       "      <td>70</td>\n",
       "      <td>75</td>\n",
       "      <td>Female</td>\n",
       "      <td>Public</td>\n",
       "    </tr>\n",
       "    <tr>\n",
       "      <th>4</th>\n",
       "      <td>95</td>\n",
       "      <td>90</td>\n",
       "      <td>95</td>\n",
       "      <td>Male</td>\n",
       "      <td>Private</td>\n",
       "    </tr>\n",
       "  </tbody>\n",
       "</table>\n",
       "</div>"
      ],
      "text/plain": [
       "   Math_Score  Science_Score  English_Score  Gender School_Type\n",
       "0          85             75             80    Male      Public\n",
       "1          90             85             70  Female     Private\n",
       "2          78             80             85    Male      Public\n",
       "3          65             70             75  Female      Public\n",
       "4          95             90             95    Male     Private"
      ]
     },
     "execution_count": 42,
     "metadata": {},
     "output_type": "execute_result"
    }
   ],
   "source": [
    "# Sample data\n",
    "data = pd.DataFrame({\n",
    "    'Math_Score': [85, 90, 78, 65, 95],\n",
    "    'Science_Score': [75, 85, 80, 70, 90],\n",
    "    'English_Score': [80, 70, 85, 75, 95],\n",
    "    'Gender': ['Male', 'Female', 'Male', 'Female', 'Male'],\n",
    "    'School_Type': ['Public', 'Private', 'Public', 'Public', 'Private']\n",
    "})\n",
    "data"
   ]
  },
  {
   "cell_type": "code",
   "execution_count": 43,
   "metadata": {},
   "outputs": [
    {
     "data": {
      "text/html": [
       "<div>\n",
       "<style scoped>\n",
       "    .dataframe tbody tr th:only-of-type {\n",
       "        vertical-align: middle;\n",
       "    }\n",
       "\n",
       "    .dataframe tbody tr th {\n",
       "        vertical-align: top;\n",
       "    }\n",
       "\n",
       "    .dataframe thead th {\n",
       "        text-align: right;\n",
       "    }\n",
       "</style>\n",
       "<table border=\"1\" class=\"dataframe\">\n",
       "  <thead>\n",
       "    <tr style=\"text-align: right;\">\n",
       "      <th></th>\n",
       "      <th>Math_Score</th>\n",
       "      <th>Science_Score</th>\n",
       "      <th>English_Score</th>\n",
       "      <th>Gender</th>\n",
       "      <th>School_Type</th>\n",
       "      <th>Total_Score</th>\n",
       "    </tr>\n",
       "  </thead>\n",
       "  <tbody>\n",
       "    <tr>\n",
       "      <th>0</th>\n",
       "      <td>85</td>\n",
       "      <td>75</td>\n",
       "      <td>80</td>\n",
       "      <td>Male</td>\n",
       "      <td>Public</td>\n",
       "      <td>240</td>\n",
       "    </tr>\n",
       "    <tr>\n",
       "      <th>1</th>\n",
       "      <td>90</td>\n",
       "      <td>85</td>\n",
       "      <td>70</td>\n",
       "      <td>Female</td>\n",
       "      <td>Private</td>\n",
       "      <td>245</td>\n",
       "    </tr>\n",
       "    <tr>\n",
       "      <th>2</th>\n",
       "      <td>78</td>\n",
       "      <td>80</td>\n",
       "      <td>85</td>\n",
       "      <td>Male</td>\n",
       "      <td>Public</td>\n",
       "      <td>243</td>\n",
       "    </tr>\n",
       "    <tr>\n",
       "      <th>3</th>\n",
       "      <td>65</td>\n",
       "      <td>70</td>\n",
       "      <td>75</td>\n",
       "      <td>Female</td>\n",
       "      <td>Public</td>\n",
       "      <td>210</td>\n",
       "    </tr>\n",
       "    <tr>\n",
       "      <th>4</th>\n",
       "      <td>95</td>\n",
       "      <td>90</td>\n",
       "      <td>95</td>\n",
       "      <td>Male</td>\n",
       "      <td>Private</td>\n",
       "      <td>280</td>\n",
       "    </tr>\n",
       "  </tbody>\n",
       "</table>\n",
       "</div>"
      ],
      "text/plain": [
       "   Math_Score  Science_Score  English_Score  Gender School_Type  Total_Score\n",
       "0          85             75             80    Male      Public          240\n",
       "1          90             85             70  Female     Private          245\n",
       "2          78             80             85    Male      Public          243\n",
       "3          65             70             75  Female      Public          210\n",
       "4          95             90             95    Male     Private          280"
      ]
     },
     "execution_count": 43,
     "metadata": {},
     "output_type": "execute_result"
    }
   ],
   "source": [
    "#a. Create a new feature called `Total_Score` by summing up the scores obtained by the student in all subjects.\n",
    "data['Total_Score'] = data[['Math_Score', 'Science_Score', 'English_Score']].sum(axis=1)\n",
    "data"
   ]
  },
  {
   "cell_type": "code",
   "execution_count": 44,
   "metadata": {},
   "outputs": [
    {
     "data": {
      "text/html": [
       "<div>\n",
       "<style scoped>\n",
       "    .dataframe tbody tr th:only-of-type {\n",
       "        vertical-align: middle;\n",
       "    }\n",
       "\n",
       "    .dataframe tbody tr th {\n",
       "        vertical-align: top;\n",
       "    }\n",
       "\n",
       "    .dataframe thead th {\n",
       "        text-align: right;\n",
       "    }\n",
       "</style>\n",
       "<table border=\"1\" class=\"dataframe\">\n",
       "  <thead>\n",
       "    <tr style=\"text-align: right;\">\n",
       "      <th></th>\n",
       "      <th>Math_Score</th>\n",
       "      <th>Science_Score</th>\n",
       "      <th>English_Score</th>\n",
       "      <th>School_Type</th>\n",
       "      <th>Total_Score</th>\n",
       "      <th>Gender_Female</th>\n",
       "      <th>Gender_Male</th>\n",
       "    </tr>\n",
       "  </thead>\n",
       "  <tbody>\n",
       "    <tr>\n",
       "      <th>0</th>\n",
       "      <td>85</td>\n",
       "      <td>75</td>\n",
       "      <td>80</td>\n",
       "      <td>Public</td>\n",
       "      <td>240</td>\n",
       "      <td>0.0</td>\n",
       "      <td>1.0</td>\n",
       "    </tr>\n",
       "    <tr>\n",
       "      <th>1</th>\n",
       "      <td>90</td>\n",
       "      <td>85</td>\n",
       "      <td>70</td>\n",
       "      <td>Private</td>\n",
       "      <td>245</td>\n",
       "      <td>1.0</td>\n",
       "      <td>0.0</td>\n",
       "    </tr>\n",
       "    <tr>\n",
       "      <th>2</th>\n",
       "      <td>78</td>\n",
       "      <td>80</td>\n",
       "      <td>85</td>\n",
       "      <td>Public</td>\n",
       "      <td>243</td>\n",
       "      <td>0.0</td>\n",
       "      <td>1.0</td>\n",
       "    </tr>\n",
       "    <tr>\n",
       "      <th>3</th>\n",
       "      <td>65</td>\n",
       "      <td>70</td>\n",
       "      <td>75</td>\n",
       "      <td>Public</td>\n",
       "      <td>210</td>\n",
       "      <td>1.0</td>\n",
       "      <td>0.0</td>\n",
       "    </tr>\n",
       "    <tr>\n",
       "      <th>4</th>\n",
       "      <td>95</td>\n",
       "      <td>90</td>\n",
       "      <td>95</td>\n",
       "      <td>Private</td>\n",
       "      <td>280</td>\n",
       "      <td>0.0</td>\n",
       "      <td>1.0</td>\n",
       "    </tr>\n",
       "  </tbody>\n",
       "</table>\n",
       "</div>"
      ],
      "text/plain": [
       "   Math_Score  Science_Score  English_Score School_Type  Total_Score  \\\n",
       "0          85             75             80      Public          240   \n",
       "1          90             85             70     Private          245   \n",
       "2          78             80             85      Public          243   \n",
       "3          65             70             75      Public          210   \n",
       "4          95             90             95     Private          280   \n",
       "\n",
       "   Gender_Female  Gender_Male  \n",
       "0            0.0          1.0  \n",
       "1            1.0          0.0  \n",
       "2            0.0          1.0  \n",
       "3            1.0          0.0  \n",
       "4            0.0          1.0  "
      ]
     },
     "execution_count": 44,
     "metadata": {},
     "output_type": "execute_result"
    }
   ],
   "source": [
    "#b. Create dummy variables for the `Gender` column.\n",
    "gender_dummies= pd.get_dummies(data.Gender, prefix='Gender', dtype=float)\n",
    "data_gender_dummies = data.drop('Gender', axis=1).join(gender_dummies)\n",
    "data_gender_dummies\n"
   ]
  },
  {
   "cell_type": "code",
   "execution_count": 45,
   "metadata": {},
   "outputs": [
    {
     "data": {
      "text/html": [
       "<div>\n",
       "<style scoped>\n",
       "    .dataframe tbody tr th:only-of-type {\n",
       "        vertical-align: middle;\n",
       "    }\n",
       "\n",
       "    .dataframe tbody tr th {\n",
       "        vertical-align: top;\n",
       "    }\n",
       "\n",
       "    .dataframe thead th {\n",
       "        text-align: right;\n",
       "    }\n",
       "</style>\n",
       "<table border=\"1\" class=\"dataframe\">\n",
       "  <thead>\n",
       "    <tr style=\"text-align: right;\">\n",
       "      <th></th>\n",
       "      <th>Math_Score</th>\n",
       "      <th>Science_Score</th>\n",
       "      <th>English_Score</th>\n",
       "      <th>Gender</th>\n",
       "      <th>Total_Score</th>\n",
       "      <th>School_Type_Private</th>\n",
       "      <th>School_Type_Public</th>\n",
       "    </tr>\n",
       "  </thead>\n",
       "  <tbody>\n",
       "    <tr>\n",
       "      <th>0</th>\n",
       "      <td>85</td>\n",
       "      <td>75</td>\n",
       "      <td>80</td>\n",
       "      <td>Male</td>\n",
       "      <td>240</td>\n",
       "      <td>0.0</td>\n",
       "      <td>1.0</td>\n",
       "    </tr>\n",
       "    <tr>\n",
       "      <th>1</th>\n",
       "      <td>90</td>\n",
       "      <td>85</td>\n",
       "      <td>70</td>\n",
       "      <td>Female</td>\n",
       "      <td>245</td>\n",
       "      <td>1.0</td>\n",
       "      <td>0.0</td>\n",
       "    </tr>\n",
       "    <tr>\n",
       "      <th>2</th>\n",
       "      <td>78</td>\n",
       "      <td>80</td>\n",
       "      <td>85</td>\n",
       "      <td>Male</td>\n",
       "      <td>243</td>\n",
       "      <td>0.0</td>\n",
       "      <td>1.0</td>\n",
       "    </tr>\n",
       "    <tr>\n",
       "      <th>3</th>\n",
       "      <td>65</td>\n",
       "      <td>70</td>\n",
       "      <td>75</td>\n",
       "      <td>Female</td>\n",
       "      <td>210</td>\n",
       "      <td>0.0</td>\n",
       "      <td>1.0</td>\n",
       "    </tr>\n",
       "    <tr>\n",
       "      <th>4</th>\n",
       "      <td>95</td>\n",
       "      <td>90</td>\n",
       "      <td>95</td>\n",
       "      <td>Male</td>\n",
       "      <td>280</td>\n",
       "      <td>1.0</td>\n",
       "      <td>0.0</td>\n",
       "    </tr>\n",
       "  </tbody>\n",
       "</table>\n",
       "</div>"
      ],
      "text/plain": [
       "   Math_Score  Science_Score  English_Score  Gender  Total_Score  \\\n",
       "0          85             75             80    Male          240   \n",
       "1          90             85             70  Female          245   \n",
       "2          78             80             85    Male          243   \n",
       "3          65             70             75  Female          210   \n",
       "4          95             90             95    Male          280   \n",
       "\n",
       "   School_Type_Private  School_Type_Public  \n",
       "0                  0.0                 1.0  \n",
       "1                  1.0                 0.0  \n",
       "2                  0.0                 1.0  \n",
       "3                  0.0                 1.0  \n",
       "4                  1.0                 0.0  "
      ]
     },
     "execution_count": 45,
     "metadata": {},
     "output_type": "execute_result"
    }
   ],
   "source": [
    "#c. Create dummy variables for the `School_Type` column.\n",
    "school_dummies= pd.get_dummies(data.School_Type, prefix='School_Type', dtype=float)\n",
    "data_school_dummies = data.drop('School_Type', axis=1).join(school_dummies)\n",
    "data_school_dummies\n"
   ]
  },
  {
   "cell_type": "code",
   "execution_count": 46,
   "metadata": {},
   "outputs": [
    {
     "name": "stdout",
     "output_type": "stream",
     "text": [
      "Requirement already satisfied: statsmodels in /usr/local/python/3.10.13/lib/python3.10/site-packages (0.14.2)\n",
      "Requirement already satisfied: numpy>=1.22.3 in /home/codespace/.local/lib/python3.10/site-packages (from statsmodels) (1.26.4)\n",
      "Requirement already satisfied: scipy!=1.9.2,>=1.8 in /home/codespace/.local/lib/python3.10/site-packages (from statsmodels) (1.13.0)\n",
      "Requirement already satisfied: pandas!=2.1.0,>=1.4 in /home/codespace/.local/lib/python3.10/site-packages (from statsmodels) (2.2.1)\n",
      "Requirement already satisfied: patsy>=0.5.6 in /usr/local/python/3.10.13/lib/python3.10/site-packages (from statsmodels) (0.5.6)\n",
      "Requirement already satisfied: packaging>=21.3 in /home/codespace/.local/lib/python3.10/site-packages (from statsmodels) (24.0)\n",
      "Requirement already satisfied: python-dateutil>=2.8.2 in /home/codespace/.local/lib/python3.10/site-packages (from pandas!=2.1.0,>=1.4->statsmodels) (2.9.0.post0)\n",
      "Requirement already satisfied: pytz>=2020.1 in /home/codespace/.local/lib/python3.10/site-packages (from pandas!=2.1.0,>=1.4->statsmodels) (2024.1)\n",
      "Requirement already satisfied: tzdata>=2022.7 in /home/codespace/.local/lib/python3.10/site-packages (from pandas!=2.1.0,>=1.4->statsmodels) (2024.1)\n",
      "Requirement already satisfied: six in /home/codespace/.local/lib/python3.10/site-packages (from patsy>=0.5.6->statsmodels) (1.16.0)\n"
     ]
    }
   ],
   "source": [
    "!pip install statsmodels"
   ]
  },
  {
   "cell_type": "code",
   "execution_count": 47,
   "metadata": {},
   "outputs": [
    {
     "data": {
      "text/plain": [
       "0    240.0\n",
       "1    245.0\n",
       "2    243.0\n",
       "3    210.0\n",
       "4    280.0\n",
       "dtype: float64"
      ]
     },
     "execution_count": 47,
     "metadata": {},
     "output_type": "execute_result"
    }
   ],
   "source": [
    "#a. Using the Patsy formula syntax, create a linear model to predict the `Total_Score` based on the scores obtained in \n",
    "#individual subjects (`Math_Score`, `Science_Score`, `English_Score`), gender (`Gender`), and school type (`School_Type`).\n",
    "import patsy\n",
    "import statsmodels.api as sm\n",
    "import statsmodels.formula.api as smf\n",
    "model_formula = smf.ols('Total_Score ~ Math_Score + Science_Score + English_Score + Gender + School_Type', data=data).fit()\n",
    "model_formula.predict(data[:5])"
   ]
  },
  {
   "cell_type": "code",
   "execution_count": 50,
   "metadata": {},
   "outputs": [
    {
     "data": {
      "text/plain": [
       "Intercept                0.011633\n",
       "Gender[T.Male]           0.001588\n",
       "School_Type[T.Public]   -0.001824\n",
       "Math_Score               0.999941\n",
       "Science_Score            0.999962\n",
       "English_Score            0.999956\n",
       "dtype: float64"
      ]
     },
     "execution_count": 50,
     "metadata": {},
     "output_type": "execute_result"
    }
   ],
   "source": [
    "#b. Fit the model to the dataset and extract the coefficients associated with each predictor variable.\n",
    "\n",
    "coefficients = model_formula.params\n",
    "coefficients\n"
   ]
  },
  {
   "cell_type": "code",
   "execution_count": null,
   "metadata": {},
   "outputs": [],
   "source": [
    "#c. Interpret the coefficients obtained from the model in terms of how they contribute to the predicted total score."
   ]
  },
  {
   "cell_type": "markdown",
   "metadata": {},
   "source": [
    "Based on these coefficients, it appears that the math score, science score, and English score have the strongest connections to the predicted total score, as their coefficients are close to 1. On the other hand, the gender and school type variables have relatively smaller connections, as their coefficients are closer to zero."
   ]
  },
  {
   "cell_type": "markdown",
   "metadata": {},
   "source": [
    "This question was a hard difficulty and it took me awhile to do because I could not figure out how to install Patsy and statsmodels. It took me about 30 minutes to complete. "
   ]
  }
 ],
 "metadata": {
  "kernelspec": {
   "display_name": "Python 3",
   "language": "python",
   "name": "python3"
  },
  "language_info": {
   "codemirror_mode": {
    "name": "ipython",
    "version": 3
   },
   "file_extension": ".py",
   "mimetype": "text/x-python",
   "name": "python",
   "nbconvert_exporter": "python",
   "pygments_lexer": "ipython3",
   "version": "3.10.13"
  }
 },
 "nbformat": 4,
 "nbformat_minor": 2
}
