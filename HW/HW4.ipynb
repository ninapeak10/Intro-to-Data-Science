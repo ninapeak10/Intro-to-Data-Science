{
 "cells": [
  {
   "cell_type": "markdown",
   "metadata": {},
   "source": [
    "# Intro to Data Science - Homework 4 - Fall 2024 - Wilmington College\n",
    "## Due Date: April 05, 2024, 11:30 AM (Before the Start of Our Class)\n",
    "\n",
    "Dear Students,\n",
    "\n",
    "Welcome to Homework 4 for the Intro to Data Science course.\n",
    "\n",
    "**Submission Instructions:**\n",
    "Please complete the homework and commit your changes to GitHub. \n",
    "\n",
    "Last part of each problem dedicated to this question: \"How long did it take you to solve this question? Was it easy, medium, or hard for you? Feel free to share any comments you have.\"\n",
    "\n",
    "**Alternative Submission:**\n",
    "If, for any reason, you are unable to use GitHub, you can submit your work via email.\n",
    "\n",
    "Remember, timely completion of assignments is crucial for your understanding of the course material. If you face any challenges, don't hesitate to reach out."
   ]
  },
  {
   "cell_type": "markdown",
   "metadata": {},
   "source": [
    "###  Replace Employee ID With The Unique Identifier\n",
    "\n",
    "You are given two tables: Employees and EmployeeUNI. The Employees table contains information about employees in a company, including their ID and name. The EmployeeUNI table contains the unique IDs corresponding to each employee. Your task is to show the unique ID of each employee, replacing null for those who do not have a unique ID.\n",
    "\n",
    "# Input Data\n",
    "\n",
    "## Employees table:\n",
    "| id | name     |\n",
    "|----|----------|\n",
    "| 1  | Alice    |\n",
    "| 7  | Bob      |\n",
    "| 11 | Meir     |\n",
    "| 90 | Winston  |\n",
    "| 3  | Jonathan |\n",
    "\n",
    "## EmployeeUNI table:\n",
    "| id | unique_id |\n",
    "|----|-----------|\n",
    "| 3  | 1         |\n",
    "| 11 | 2         |\n",
    "| 90 | 3         |\n",
    "\n",
    "# Approach\n",
    "\n",
    "1. Read the input data into pandas DataFrames.\n",
    "2. Merge the Employees and EmployeeUNI DataFrames on the 'id' column using a left join.\n",
    "3. Fill missing values in the 'unique_id' column with 'null'.\n",
    "4. Display the result table.\n"
   ]
  },
  {
   "cell_type": "code",
   "execution_count": 4,
   "metadata": {},
   "outputs": [],
   "source": [
    "import pandas as pd\n",
    "employees_df = {\n",
    "    \"id\":[1, 7, 11, 90, 3],\n",
    "    \"name\": [\"Alice\", \"Bob\", \"Meir\", \"Winston\", \"Jonathan\"]}\n",
    "\n",
    "employeesuni_df= {\n",
    "    \"id\": [3, 11, 90],\n",
    "    \"unique_id\": [1, 2, 3]}\n"
   ]
  },
  {
   "cell_type": "code",
   "execution_count": 8,
   "metadata": {},
   "outputs": [
    {
     "ename": "AttributeError",
     "evalue": "'dict' object has no attribute 'df'",
     "output_type": "error",
     "traceback": [
      "\u001b[0;31m---------------------------------------------------------------------------\u001b[0m",
      "\u001b[0;31mAttributeError\u001b[0m                            Traceback (most recent call last)",
      "Cell \u001b[0;32mIn[8], line 1\u001b[0m\n\u001b[0;32m----> 1\u001b[0m \u001b[43memployees_df\u001b[49m\u001b[38;5;241;43m.\u001b[39;49m\u001b[43mdf\u001b[49m\n",
      "\u001b[0;31mAttributeError\u001b[0m: 'dict' object has no attribute 'df'"
     ]
    }
   ],
   "source": [
    "employees_df"
   ]
  },
  {
   "cell_type": "code",
   "execution_count": 6,
   "metadata": {},
   "outputs": [
    {
     "ename": "TypeError",
     "evalue": "Can only merge Series or DataFrame objects, a <class 'dict'> was passed",
     "output_type": "error",
     "traceback": [
      "\u001b[0;31m---------------------------------------------------------------------------\u001b[0m",
      "\u001b[0;31mTypeError\u001b[0m                                 Traceback (most recent call last)",
      "Cell \u001b[0;32mIn[6], line 1\u001b[0m\n\u001b[0;32m----> 1\u001b[0m \u001b[43mpd\u001b[49m\u001b[38;5;241;43m.\u001b[39;49m\u001b[43mmerge\u001b[49m\u001b[43m(\u001b[49m\u001b[43memployees_df\u001b[49m\u001b[43m,\u001b[49m\u001b[43m \u001b[49m\u001b[43memployeesuni_df\u001b[49m\u001b[43m,\u001b[49m\u001b[43m \u001b[49m\u001b[43mon\u001b[49m\u001b[38;5;241;43m=\u001b[39;49m\u001b[43m \u001b[49m\u001b[38;5;124;43m\"\u001b[39;49m\u001b[38;5;124;43mid\u001b[39;49m\u001b[38;5;124;43m\"\u001b[39;49m\u001b[43m,\u001b[49m\u001b[43m \u001b[49m\u001b[43mhow\u001b[49m\u001b[38;5;241;43m=\u001b[39;49m\u001b[43m \u001b[49m\u001b[38;5;124;43m\"\u001b[39;49m\u001b[38;5;124;43mleft\u001b[39;49m\u001b[38;5;124;43m\"\u001b[39;49m\u001b[43m)\u001b[49m\n",
      "File \u001b[0;32m~/.local/lib/python3.10/site-packages/pandas/core/reshape/merge.py:152\u001b[0m, in \u001b[0;36mmerge\u001b[0;34m(left, right, how, on, left_on, right_on, left_index, right_index, sort, suffixes, copy, indicator, validate)\u001b[0m\n\u001b[1;32m    135\u001b[0m \u001b[38;5;129m@Substitution\u001b[39m(\u001b[38;5;124m\"\u001b[39m\u001b[38;5;130;01m\\n\u001b[39;00m\u001b[38;5;124mleft : DataFrame or named Series\u001b[39m\u001b[38;5;124m\"\u001b[39m)\n\u001b[1;32m    136\u001b[0m \u001b[38;5;129m@Appender\u001b[39m(_merge_doc, indents\u001b[38;5;241m=\u001b[39m\u001b[38;5;241m0\u001b[39m)\n\u001b[1;32m    137\u001b[0m \u001b[38;5;28;01mdef\u001b[39;00m \u001b[38;5;21mmerge\u001b[39m(\n\u001b[0;32m   (...)\u001b[0m\n\u001b[1;32m    150\u001b[0m     validate: \u001b[38;5;28mstr\u001b[39m \u001b[38;5;241m|\u001b[39m \u001b[38;5;28;01mNone\u001b[39;00m \u001b[38;5;241m=\u001b[39m \u001b[38;5;28;01mNone\u001b[39;00m,\n\u001b[1;32m    151\u001b[0m ) \u001b[38;5;241m-\u001b[39m\u001b[38;5;241m>\u001b[39m DataFrame:\n\u001b[0;32m--> 152\u001b[0m     left_df \u001b[38;5;241m=\u001b[39m \u001b[43m_validate_operand\u001b[49m\u001b[43m(\u001b[49m\u001b[43mleft\u001b[49m\u001b[43m)\u001b[49m\n\u001b[1;32m    153\u001b[0m     right_df \u001b[38;5;241m=\u001b[39m _validate_operand(right)\n\u001b[1;32m    154\u001b[0m     \u001b[38;5;28;01mif\u001b[39;00m how \u001b[38;5;241m==\u001b[39m \u001b[38;5;124m\"\u001b[39m\u001b[38;5;124mcross\u001b[39m\u001b[38;5;124m\"\u001b[39m:\n",
      "File \u001b[0;32m~/.local/lib/python3.10/site-packages/pandas/core/reshape/merge.py:2693\u001b[0m, in \u001b[0;36m_validate_operand\u001b[0;34m(obj)\u001b[0m\n\u001b[1;32m   2691\u001b[0m     \u001b[38;5;28;01mreturn\u001b[39;00m obj\u001b[38;5;241m.\u001b[39mto_frame()\n\u001b[1;32m   2692\u001b[0m \u001b[38;5;28;01melse\u001b[39;00m:\n\u001b[0;32m-> 2693\u001b[0m     \u001b[38;5;28;01mraise\u001b[39;00m \u001b[38;5;167;01mTypeError\u001b[39;00m(\n\u001b[1;32m   2694\u001b[0m         \u001b[38;5;124mf\u001b[39m\u001b[38;5;124m\"\u001b[39m\u001b[38;5;124mCan only merge Series or DataFrame objects, a \u001b[39m\u001b[38;5;132;01m{\u001b[39;00m\u001b[38;5;28mtype\u001b[39m(obj)\u001b[38;5;132;01m}\u001b[39;00m\u001b[38;5;124m was passed\u001b[39m\u001b[38;5;124m\"\u001b[39m\n\u001b[1;32m   2695\u001b[0m     )\n",
      "\u001b[0;31mTypeError\u001b[0m: Can only merge Series or DataFrame objects, a <class 'dict'> was passed"
     ]
    }
   ],
   "source": [
    "pd.merge(employees_df, employeesuni_df, on= \"id\", how= \"left\")"
   ]
  },
  {
   "cell_type": "code",
   "execution_count": null,
   "metadata": {},
   "outputs": [],
   "source": [
    "result_df['unique_id']= result_df['unique_id']"
   ]
  },
  {
   "cell_type": "code",
   "execution_count": null,
   "metadata": {},
   "outputs": [],
   "source": [
    "result_df"
   ]
  },
  {
   "cell_type": "markdown",
   "metadata": {},
   "source": [
    "# 2. Product Sales Analysis I\n",
    "\n",
    "Given the Sales and Product tables, you need to report the product_name, year, and price for each sale_id in the Sales table. Return the resulting table in any order.\n",
    "\n",
    "Sales table:\n",
    "| sale_id | product_id | year | quantity | price |\n",
    "|---------|------------|------|----------|------- \n",
    "| 1       | 100        | 2008 | 10       | 5000  |\n",
    "| 2       | 100        | 2009 | 12       | 5000  |\n",
    "| 7       | 200        | 2011 | 15       | 9000  |\n",
    "\n",
    "Product table:\n",
    "| product_id | product_name |\n",
    "------------|--------------\n",
    "| 100        | Nokia        |\n",
    "| 200        | Apple        |\n",
    "| 300        | Samsung      |\n",
    "\n",
    "Output: \n",
    "\n",
    "| product_name | year  | price |\n",
    "|--------------|-------|-------|\n",
    "| Nokia        | 2008  | 5000  |\n",
    "| Nokia        | 2009  | 5000  |\n",
    "| Apple        | 2011  | 9000  |\n",
    "\n",
    "\n",
    "# Approach\n",
    "\n",
    "1. Join the Sales and Product tables on the product_id column.\n",
    "2. Select the product_name, year, and price columns from the joined table.\n",
    "3. Return the resulting table.\n",
    "\n"
   ]
  },
  {
   "cell_type": "markdown",
   "metadata": {},
   "source": [
    "# 3. Product Sales Analysis II\n",
    "\n",
    "You are given two tables: `Sales` and `Product`.\n",
    "\n",
    "Table: Sales\n",
    "\n",
    "| Column Name | Type  |\n",
    "|-------------|-------|\n",
    "| sale_id     | int   |\n",
    "| product_id  | int   |\n",
    "| year        | int   |\n",
    "| quantity    | int   |\n",
    "| price       | int   |\n",
    "\n",
    "- (sale_id, year) is the primary key (combination of columns with unique values) of this table.\n",
    "- `product_id` is a foreign key (reference column) to the Product table.\n",
    "- Each row of this table shows a sale on the product `product_id` in a certain year.\n",
    "- Note that the price is per unit.\n",
    "\n",
    "Table: Product\n",
    "\n",
    "| Column Name  | Type    |\n",
    "|--------------|---------|\n",
    "| product_id   | int     |\n",
    "| product_name | varchar |\n",
    "\n",
    "- `product_id` is the primary key (column with unique values) of this table.\n",
    "- Each row of this table indicates the product name of each product.\n",
    "\n",
    "Write a solution to select the product id, year, quantity, and price for the first year of every product sold. Return the resulting table in any order.\n",
    "\n",
    "**Example:**\n",
    "\n",
    "**Input:**\n",
    "Sales table:\n",
    "\n",
    "| sale_id | product_id | year | quantity | price |\n",
    "|---------|------------|------|----------|-------|\n",
    "| 1       | 100        | 2008 | 10       | 5000  |\n",
    "| 2       | 100        | 2009 | 12       | 5000  |\n",
    "| 7       | 200        | 2011 | 15       | 9000  |\n",
    "\n",
    "Product table:\n",
    "\n",
    "| product_id | product_name |\n",
    "|------------|--------------|\n",
    "| 100        | Nokia        |\n",
    "| 200        | Apple        |\n",
    "| 300        | Samsung      |\n",
    "\n",
    "**Output:**\n",
    "\n",
    "| product_id | first_year | quantity | price |\n",
    "|------------|------------|----------|-------|\n",
    "| 100        | 2008       | 10       | 5000  |\n",
    "| 200        | 2011       | 15       | 9000  |\n"
   ]
  },
  {
   "cell_type": "markdown",
   "metadata": {},
   "source": [
    "# 4. Managers with at Least 5 Direct Reports\n",
    "\n",
    "You are given a table, `Employee`, with the following structure and data:\n",
    "\n",
    "\n",
    "| Column Name | Type    |\n",
    "|-------------|---------\n",
    "| id          | int     |\n",
    "| name        | varchar |\n",
    "| department  | varchar |\n",
    "| managerId   | int     |\n",
    "\n",
    "\n",
    "- `id` is the primary key for this table.\n",
    "- Each row of this table represents an employee in the company. The `managerId` column contains the `id` of the employee's manager.\n",
    "- If `managerId` is null, then the employee does not have a manager.\n",
    "- No employee will be the manager of themself.\n",
    "\n",
    "Write a Python code to find the names of managers who have at least five direct reports. Return the result table in any order.\n",
    "\n",
    "**Example:**\n",
    "\n",
    "**Input:**\n",
    "\n",
    "Employee table:\n",
    "\n",
    "| id  | name  | department | managerId |\n",
    "-----|-------|------------|-----------\n",
    "| 101 | John  | A          | null      |\n",
    "| 102 | Dan   | A          | 101       |\n",
    "| 103 | James | A          | 101       |\n",
    "| 104 | Amy   | A          | 101       |\n",
    "| 105 | Anne  | A          | 101       |\n",
    "| 106 | Ron   | B          | 101       |\n",
    "\n",
    "\n",
    "**Output:**\n",
    "\n",
    "\n",
    "| name |\n",
    "------\n",
    "| John |\n",
    "\n",
    "\n",
    "**Explanation:**\n",
    "\n",
    "John is the only manager with at least five direct reports (Dan, James, Amy, Anne, and Ron).\n"
   ]
  },
  {
   "cell_type": "markdown",
   "metadata": {},
   "source": [
    "# 5. From the dataset provided in HW3:\n",
    "\n",
    "    a. Generate a histogram overlaid with a density plot for the ratings of the companies .\n",
    "    b. Ensure to title your plot, label axes appropriately, and include a legend for clarity.\n",
    "    c. Provide an interpretation of your plot."
   ]
  },
  {
   "cell_type": "markdown",
   "metadata": {},
   "source": [
    "**Interpretation**:\n",
    "The histogram provides a visual representation of the distribution of company ratings, showcasing the frequency of ratings across the dataset. On the other hand, the density plot offers a smoothed representation of the probability density function of the ratings, providing insight into the likelihood of different ratings occurring.\n",
    "\n",
    "From the plot, we can observe the distribution of ratings among the companies. We notice that the distribution is slightly skewed to the left, indicating that a larger proportion of companies have higher ratings compared to those with lower ratings. This skewness suggests that most companies in the dataset tend to receive positive ratings from users, although there are still variations in the ratings provided."
   ]
  },
  {
   "cell_type": "markdown",
   "metadata": {},
   "source": [
    "# 6. Using the provided dataset again, analyze the average salary across different industry sectors. Implement the following steps:\n",
    "\n",
    "1. Group the data by industry sector (can be extracted from the Description) and calculate the mean salary for each sector.\n",
    "2. Identify the top 10 and bottom 10 industry sectors based on average salary.\n",
    "3. Concatenate the top and bottom sectors into a single DataFrame.\n",
    "4. Visualize the top and bottom 10 average salaries by industry sector using a bar plot."
   ]
  },
  {
   "cell_type": "markdown",
   "metadata": {},
   "source": [
    "# 7. From the dataset provided in HW3:\n",
    "Create a bar plot to display the top 10 companies based on their ratings."
   ]
  },
  {
   "cell_type": "markdown",
   "metadata": {},
   "source": [
    "# 8. From the dataset provided in HW3:\n",
    "a. Following the analysis in question 2 part i, where outliers in the \"Avg_salary\" column were identified, now visualize them using a boxplot.\n",
    "b. Create a boxplot for the \"Avg_salary\" column categorized by 5 samples of sectors."
   ]
  }
 ],
 "metadata": {
  "kernelspec": {
   "display_name": "Python 3",
   "language": "python",
   "name": "python3"
  },
  "language_info": {
   "codemirror_mode": {
    "name": "ipython",
    "version": 3
   },
   "file_extension": ".py",
   "mimetype": "text/x-python",
   "name": "python",
   "nbconvert_exporter": "python",
   "pygments_lexer": "ipython3",
   "version": "3.10.13"
  }
 },
 "nbformat": 4,
 "nbformat_minor": 2
}
